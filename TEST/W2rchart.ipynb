{
 "cells": [
  {
   "cell_type": "code",
   "execution_count": 36,
   "id": "bec87cde",
   "metadata": {},
   "outputs": [],
   "source": [
    "import pandas as pd"
   ]
  },
  {
   "cell_type": "code",
   "execution_count": 37,
   "id": "d110f98f",
   "metadata": {},
   "outputs": [],
   "source": [
    "df=pd.read_csv('Bagweight.txt',delimiter= \"\\t\" )"
   ]
  },
  {
   "cell_type": "code",
   "execution_count": 38,
   "id": "4cf1eaaf",
   "metadata": {},
   "outputs": [],
   "source": [
    "#df=pd.read_csv('NKgE2MCPS52oBNjAjyudNA_7ccee294a9334085af6a58bf5e4d16f1_ShearedSheet (1).txt',delimiter= \"\\t\" )"
   ]
  },
  {
   "cell_type": "code",
   "execution_count": 39,
   "id": "f9684d9d",
   "metadata": {},
   "outputs": [
    {
     "data": {
      "text/html": [
       "<div>\n",
       "<style scoped>\n",
       "    .dataframe tbody tr th:only-of-type {\n",
       "        vertical-align: middle;\n",
       "    }\n",
       "\n",
       "    .dataframe tbody tr th {\n",
       "        vertical-align: top;\n",
       "    }\n",
       "\n",
       "    .dataframe thead th {\n",
       "        text-align: right;\n",
       "    }\n",
       "</style>\n",
       "<table border=\"1\" class=\"dataframe\">\n",
       "  <thead>\n",
       "    <tr style=\"text-align: right;\">\n",
       "      <th></th>\n",
       "      <th>Week</th>\n",
       "      <th>Bag_Weight</th>\n",
       "    </tr>\n",
       "  </thead>\n",
       "  <tbody>\n",
       "    <tr>\n",
       "      <th>0</th>\n",
       "      <td>1</td>\n",
       "      <td>109.16</td>\n",
       "    </tr>\n",
       "    <tr>\n",
       "      <th>1</th>\n",
       "      <td>1</td>\n",
       "      <td>111.36</td>\n",
       "    </tr>\n",
       "    <tr>\n",
       "      <th>2</th>\n",
       "      <td>1</td>\n",
       "      <td>108.54</td>\n",
       "    </tr>\n",
       "    <tr>\n",
       "      <th>3</th>\n",
       "      <td>1</td>\n",
       "      <td>111.56</td>\n",
       "    </tr>\n",
       "    <tr>\n",
       "      <th>4</th>\n",
       "      <td>1</td>\n",
       "      <td>109.94</td>\n",
       "    </tr>\n",
       "    <tr>\n",
       "      <th>...</th>\n",
       "      <td>...</td>\n",
       "      <td>...</td>\n",
       "    </tr>\n",
       "    <tr>\n",
       "      <th>145</th>\n",
       "      <td>30</td>\n",
       "      <td>109.40</td>\n",
       "    </tr>\n",
       "    <tr>\n",
       "      <th>146</th>\n",
       "      <td>30</td>\n",
       "      <td>110.06</td>\n",
       "    </tr>\n",
       "    <tr>\n",
       "      <th>147</th>\n",
       "      <td>30</td>\n",
       "      <td>108.20</td>\n",
       "    </tr>\n",
       "    <tr>\n",
       "      <th>148</th>\n",
       "      <td>30</td>\n",
       "      <td>110.48</td>\n",
       "    </tr>\n",
       "    <tr>\n",
       "      <th>149</th>\n",
       "      <td>30</td>\n",
       "      <td>111.08</td>\n",
       "    </tr>\n",
       "  </tbody>\n",
       "</table>\n",
       "<p>150 rows × 2 columns</p>\n",
       "</div>"
      ],
      "text/plain": [
       "     Week  Bag_Weight\n",
       "0       1      109.16\n",
       "1       1      111.36\n",
       "2       1      108.54\n",
       "3       1      111.56\n",
       "4       1      109.94\n",
       "..    ...         ...\n",
       "145    30      109.40\n",
       "146    30      110.06\n",
       "147    30      108.20\n",
       "148    30      110.48\n",
       "149    30      111.08\n",
       "\n",
       "[150 rows x 2 columns]"
      ]
     },
     "execution_count": 39,
     "metadata": {},
     "output_type": "execute_result"
    }
   ],
   "source": [
    "df"
   ]
  },
  {
   "cell_type": "code",
   "execution_count": 40,
   "id": "ad096ee8",
   "metadata": {},
   "outputs": [
    {
     "data": {
      "text/plain": [
       "2.062"
      ]
     },
     "execution_count": 40,
     "metadata": {},
     "output_type": "execute_result"
    }
   ],
   "source": [
    "# Calculating the range (max - min) for each week's sample\n",
    "weekly_ranges = df.groupby('Week')['Bag_Weight'].apply(lambda x: x.max() - x.min())\n",
    "\n",
    "# Calculating the average of these ranges (centerline for the R chart)\n",
    "centerline_R = weekly_ranges.mean()\n",
    "\n",
    "centerline_R_rounded = round(centerline_R, 4)\n",
    "centerline_R_rounded\n"
   ]
  },
  {
   "cell_type": "code",
   "execution_count": 47,
   "id": "e02f55cf",
   "metadata": {},
   "outputs": [
    {
     "data": {
      "text/plain": [
       "(3.2518, 0.8722)"
      ]
     },
     "execution_count": 47,
     "metadata": {},
     "output_type": "execute_result"
    }
   ],
   "source": [
    "# Control chart constant A2 for sample size of 5\n",
    "A2 = 0.577\n",
    "\n",
    "# Calculating UCL and LCL for the Xbar chart\n",
    "UCL_Xbar = centerline_R_rounded + A2 * centerline_R_rounded\n",
    "LCL_Xbar = centerline_R_rounded - A2 * centerline_R_rounded\n",
    "\n",
    "UCL_Xbar_rounded = round(UCL_Xbar, 4)\n",
    "LCL_Xbar_rounded = round(LCL_Xbar, 4)\n",
    "\n",
    "UCL_Xbar_rounded, LCL_Xbar_rounded"
   ]
  },
  {
   "cell_type": "code",
   "execution_count": 41,
   "id": "0b72749c",
   "metadata": {},
   "outputs": [
    {
     "data": {
      "text/plain": [
       "(3.2518, 0.8722)"
      ]
     },
     "execution_count": 41,
     "metadata": {},
     "output_type": "execute_result"
    }
   ],
   "source": [
    "A2 = 0.577\n",
    "\n",
    "# Calculating UCL and LCL for the Xbar chart\n",
    "UCL_Xbar = centerline_R_rounded + A2 * centerline_R_rounded\n",
    "LCL_Xbar = centerline_R_rounded - A2 * centerline_R_rounded\n",
    "\n",
    "UCL_Xbar_rounded = round(UCL_Xbar, 4)\n",
    "LCL_Xbar_rounded = round(LCL_Xbar, 4)\n",
    "\n",
    "UCL_Xbar_rounded, LCL_Xbar_rounded"
   ]
  },
  {
   "cell_type": "code",
   "execution_count": 45,
   "id": "05d30f0b",
   "metadata": {},
   "outputs": [
    {
     "data": {
      "text/plain": [
       "(4.3591, 0.0)"
      ]
     },
     "execution_count": 45,
     "metadata": {},
     "output_type": "execute_result"
    }
   ],
   "source": [
    "# Control chart constants for sample size of 5\n",
    "D4 = 2.114\n",
    "D3 = 0  # LCL can't be negative\n",
    "\n",
    "# Calculating UCL and LCL for the R chart\n",
    "UCL_R = D4 * centerline_R_rounded\n",
    "LCL_R = D3 * centerline_R_rounded  # This will be zero as D3 is zero\n",
    "\n",
    "UCL_R_rounded = round(UCL_R, 4)\n",
    "LCL_R_rounded = round(LCL_R, 4)  # This will be zero\n",
    "\n",
    "UCL_R_rounded, LCL_R_rounded"
   ]
  },
  {
   "cell_type": "code",
   "execution_count": 43,
   "id": "ea197e83",
   "metadata": {},
   "outputs": [
    {
     "data": {
      "text/plain": [
       "0.8865"
      ]
     },
     "execution_count": 43,
     "metadata": {},
     "output_type": "execute_result"
    }
   ],
   "source": [
    "# Control chart constant d2 for sample size of 5\n",
    "d2 = 2.326\n",
    "\n",
    "# Estimating sigma using the average range R\n",
    "sigma_estimate = centerline_R_rounded / d2\n",
    "\n",
    "sigma_estimate_rounded = round(sigma_estimate, 4)\n",
    "sigma_estimate_rounded"
   ]
  },
  {
   "cell_type": "code",
   "execution_count": null,
   "id": "05a18ec5",
   "metadata": {},
   "outputs": [],
   "source": []
  },
  {
   "cell_type": "code",
   "execution_count": null,
   "id": "58cc893d",
   "metadata": {},
   "outputs": [],
   "source": []
  }
 ],
 "metadata": {
  "kernelspec": {
   "display_name": "Python 3 (ipykernel)",
   "language": "python",
   "name": "python3"
  },
  "language_info": {
   "codemirror_mode": {
    "name": "ipython",
    "version": 3
   },
   "file_extension": ".py",
   "mimetype": "text/x-python",
   "name": "python",
   "nbconvert_exporter": "python",
   "pygments_lexer": "ipython3",
   "version": "3.10.4"
  }
 },
 "nbformat": 4,
 "nbformat_minor": 5
}

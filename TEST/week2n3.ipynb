{
 "cells": [
  {
   "cell_type": "code",
   "execution_count": 1,
   "id": "6dddb061",
   "metadata": {},
   "outputs": [],
   "source": [
    "import matplotlib.pyplot as plt\n",
    "import pandas as pd\n",
    "import numpy as np"
   ]
  },
  {
   "cell_type": "code",
   "execution_count": 2,
   "id": "13b83228",
   "metadata": {},
   "outputs": [],
   "source": [
    "data = [6.649, 6.639, 6.629, 6.642, 6.624, 6.616, 6.649, 6.654, 6.649, 6.642, \n",
    "        6.649, 6.637, 6.649, 6.647, 6.644, 6.657, 6.654, 6.634, 6.644, 6.649]\n",
    "\n",
    "df = pd.DataFrame(data, columns=['Width'])"
   ]
  },
  {
   "cell_type": "code",
   "execution_count": 6,
   "id": "15b565f2",
   "metadata": {},
   "outputs": [
    {
     "data": {
      "text/html": [
       "<div>\n",
       "<style scoped>\n",
       "    .dataframe tbody tr th:only-of-type {\n",
       "        vertical-align: middle;\n",
       "    }\n",
       "\n",
       "    .dataframe tbody tr th {\n",
       "        vertical-align: top;\n",
       "    }\n",
       "\n",
       "    .dataframe thead th {\n",
       "        text-align: right;\n",
       "    }\n",
       "</style>\n",
       "<table border=\"1\" class=\"dataframe\">\n",
       "  <thead>\n",
       "    <tr style=\"text-align: right;\">\n",
       "      <th></th>\n",
       "      <th>Width</th>\n",
       "    </tr>\n",
       "  </thead>\n",
       "  <tbody>\n",
       "    <tr>\n",
       "      <th>0</th>\n",
       "      <td>6.649</td>\n",
       "    </tr>\n",
       "    <tr>\n",
       "      <th>1</th>\n",
       "      <td>6.639</td>\n",
       "    </tr>\n",
       "    <tr>\n",
       "      <th>2</th>\n",
       "      <td>6.629</td>\n",
       "    </tr>\n",
       "    <tr>\n",
       "      <th>3</th>\n",
       "      <td>6.642</td>\n",
       "    </tr>\n",
       "    <tr>\n",
       "      <th>4</th>\n",
       "      <td>6.624</td>\n",
       "    </tr>\n",
       "    <tr>\n",
       "      <th>5</th>\n",
       "      <td>6.616</td>\n",
       "    </tr>\n",
       "    <tr>\n",
       "      <th>6</th>\n",
       "      <td>6.649</td>\n",
       "    </tr>\n",
       "    <tr>\n",
       "      <th>7</th>\n",
       "      <td>6.654</td>\n",
       "    </tr>\n",
       "    <tr>\n",
       "      <th>8</th>\n",
       "      <td>6.649</td>\n",
       "    </tr>\n",
       "    <tr>\n",
       "      <th>9</th>\n",
       "      <td>6.642</td>\n",
       "    </tr>\n",
       "    <tr>\n",
       "      <th>10</th>\n",
       "      <td>6.649</td>\n",
       "    </tr>\n",
       "    <tr>\n",
       "      <th>11</th>\n",
       "      <td>6.637</td>\n",
       "    </tr>\n",
       "    <tr>\n",
       "      <th>12</th>\n",
       "      <td>6.649</td>\n",
       "    </tr>\n",
       "    <tr>\n",
       "      <th>13</th>\n",
       "      <td>6.647</td>\n",
       "    </tr>\n",
       "    <tr>\n",
       "      <th>14</th>\n",
       "      <td>6.644</td>\n",
       "    </tr>\n",
       "    <tr>\n",
       "      <th>15</th>\n",
       "      <td>6.657</td>\n",
       "    </tr>\n",
       "    <tr>\n",
       "      <th>16</th>\n",
       "      <td>6.654</td>\n",
       "    </tr>\n",
       "    <tr>\n",
       "      <th>17</th>\n",
       "      <td>6.634</td>\n",
       "    </tr>\n",
       "    <tr>\n",
       "      <th>18</th>\n",
       "      <td>6.644</td>\n",
       "    </tr>\n",
       "    <tr>\n",
       "      <th>19</th>\n",
       "      <td>6.649</td>\n",
       "    </tr>\n",
       "  </tbody>\n",
       "</table>\n",
       "</div>"
      ],
      "text/plain": [
       "    Width\n",
       "0   6.649\n",
       "1   6.639\n",
       "2   6.629\n",
       "3   6.642\n",
       "4   6.624\n",
       "5   6.616\n",
       "6   6.649\n",
       "7   6.654\n",
       "8   6.649\n",
       "9   6.642\n",
       "10  6.649\n",
       "11  6.637\n",
       "12  6.649\n",
       "13  6.647\n",
       "14  6.644\n",
       "15  6.657\n",
       "16  6.654\n",
       "17  6.634\n",
       "18  6.644\n",
       "19  6.649"
      ]
     },
     "execution_count": 6,
     "metadata": {},
     "output_type": "execute_result"
    }
   ],
   "source": [
    "df"
   ]
  },
  {
   "cell_type": "code",
   "execution_count": 3,
   "id": "1b16a0a5",
   "metadata": {},
   "outputs": [
    {
     "data": {
      "image/png": "[encoded data removed]",
      "text/plain": [
       "<Figure size 720x432 with 1 Axes>"
      ]
     },
     "metadata": {
      "needs_background": "light"
     },
     "output_type": "display_data"
    }
   ],
   "source": [
    "plt.figure(figsize=(10, 6))\n",
    "plt.plot(df['Width'], marker='o')\n",
    "plt.title('Run Chart of Pencil Widths')\n",
    "plt.xlabel('Sample Number')\n",
    "plt.ylabel('Width (mm)')\n",
    "plt.grid(True)\n",
    "plt.show()"
   ]
  },
  {
   "cell_type": "code",
   "execution_count": 4,
   "id": "6c5d4e9c",
   "metadata": {},
   "outputs": [
    {
     "name": "stdout",
     "output_type": "stream",
     "text": [
      "6.616    1\n",
      "6.624    1\n",
      "6.629    1\n",
      "6.634    1\n",
      "6.637    1\n",
      "6.639    1\n",
      "6.642    2\n",
      "6.644    2\n",
      "6.647    1\n",
      "6.649    6\n",
      "6.654    2\n",
      "6.657    1\n",
      "Name: Width, dtype: int64\n"
     ]
    }
   ],
   "source": [
    "frequency_distribution = df['Width'].value_counts().sort_index()\n",
    "print(frequency_distribution)"
   ]
  },
  {
   "cell_type": "code",
   "execution_count": 5,
   "id": "834bdef2",
   "metadata": {},
   "outputs": [
    {
     "data": {
      "image/png": "[encoded data removed]",
      "text/plain": [
       "<Figure size 720x432 with 1 Axes>"
      ]
     },
     "metadata": {
      "needs_background": "light"
     },
     "output_type": "display_data"
    }
   ],
   "source": [
    "plt.figure(figsize=(10, 6))\n",
    "plt.plot(frequency_distribution, marker='o')\n",
    "plt.title('Ungrouped Frequency Polygon of Pencil Widths')\n",
    "plt.xlabel('Width (mm)')\n",
    "plt.ylabel('Frequency')\n",
    "plt.grid(True)\n",
    "plt.show()"
   ]
  },
  {
   "cell_type": "code",
   "execution_count": null,
   "id": "f245c078",
   "metadata": {},
   "outputs": [],
   "source": []
  },
  {
   "cell_type": "code",
   "execution_count": null,
   "id": "5df57bbc",
   "metadata": {},
   "outputs": [],
   "source": []
  },
  {
   "cell_type": "code",
   "execution_count": 64,
   "id": "b7476638",
   "metadata": {},
   "outputs": [],
   "source": [
    "df= pd.read_csv(\"viscosity.txt\",delimiter=' ')"
   ]
  },
  {
   "cell_type": "code",
   "execution_count": 65,
   "id": "0a3dbe3b",
   "metadata": {},
   "outputs": [
    {
     "data": {
      "text/plain": [
       "centistokes\n",
       "60.0           1\n",
       "64.0           1\n",
       "65.0           2\n",
       "66.0           2\n",
       "67.0           1\n",
       "68.0           1\n",
       "69.0           2\n",
       "70.0           1\n",
       "71.0           3\n",
       "72.0           1\n",
       "74.0           1\n",
       "75.0           1\n",
       "76.0           1\n",
       "77.0           4\n",
       "78.0           3\n",
       "79.0           3\n",
       "82.0           1\n",
       "83.0           4\n",
       "84.0           2\n",
       "85.0           2\n",
       "86.0           2\n",
       "87.0           1\n",
       "89.0           1\n",
       "90.0           1\n",
       "91.0           1\n",
       "92.0           1\n",
       "94.0           1\n",
       "96.0           2\n",
       "97.0           1\n",
       "101.0          1\n",
       "105.0          1\n",
       "dtype: int64"
      ]
     },
     "execution_count": 65,
     "metadata": {},
     "output_type": "execute_result"
    }
   ],
   "source": [
    "df.value_counts().sort_index()"
   ]
  },
  {
   "cell_type": "code",
   "execution_count": 66,
   "id": "3240de49",
   "metadata": {},
   "outputs": [
    {
     "data": {
      "image/png": "[encoded data removed]",
      "text/plain": [
       "<Figure size 720x432 with 1 Axes>"
      ]
     },
     "metadata": {
      "needs_background": "light"
     },
     "output_type": "display_data"
    }
   ],
   "source": [
    "plt.figure(figsize=(10, 6))\n",
    "plt.plot(df, marker='o')\n",
    "plt.title('Run Chart of Pencil Widths')\n",
    "plt.xlabel('Sample Number')\n",
    "plt.ylabel('Width (mm)')\n",
    "plt.grid(True)\n",
    "plt.show()"
   ]
  },
  {
   "cell_type": "code",
   "execution_count": 6,
   "id": "13548098",
   "metadata": {},
   "outputs": [],
   "source": [
    "frequency_distribution = df.value_counts().sort_index()"
   ]
  },
  {
   "cell_type": "code",
   "execution_count": 19,
   "id": "4eb2f18d",
   "metadata": {},
   "outputs": [
    {
     "data": {
      "text/plain": [
       "31"
      ]
     },
     "execution_count": 19,
     "metadata": {},
     "output_type": "execute_result"
    }
   ],
   "source": [
    "len(frequency_distribution )"
   ]
  },
  {
   "cell_type": "code",
   "execution_count": 17,
   "id": "bc373c4f",
   "metadata": {},
   "outputs": [
    {
     "ename": "ValueError",
     "evalue": "Input array must be 1 dimensional",
     "output_type": "error",
     "traceback": [
      "\u001b[0;31m---------------------------------------------------------------------------\u001b[0m",
      "\u001b[0;31mValueError\u001b[0m                                Traceback (most recent call last)",
      "Input \u001b[0;32mIn [17]\u001b[0m, in \u001b[0;36m<cell line: 7>\u001b[0;34m()\u001b[0m\n\u001b[1;32m      4\u001b[0m bins \u001b[38;5;241m=\u001b[39m np\u001b[38;5;241m.\u001b[39mlinspace(min_width, max_width, \u001b[38;5;28mlen\u001b[39m(df))  \u001b[38;5;66;03m# Adjust the number of bins as necessary\u001b[39;00m\n\u001b[1;32m      6\u001b[0m \u001b[38;5;66;03m# Create grouped frequency distribution\u001b[39;00m\n\u001b[0;32m----> 7\u001b[0m grouped_frequency \u001b[38;5;241m=\u001b[39m \u001b[43mpd\u001b[49m\u001b[38;5;241;43m.\u001b[39;49m\u001b[43mcut\u001b[49m\u001b[43m(\u001b[49m\u001b[43mdf\u001b[49m\u001b[43m,\u001b[49m\u001b[43m \u001b[49m\u001b[43mbins\u001b[49m\u001b[43m)\u001b[49m\u001b[38;5;241m.\u001b[39mvalue_counts()\u001b[38;5;241m.\u001b[39msort_index()\n\u001b[1;32m      9\u001b[0m \u001b[38;5;66;03m# Calculate relative frequency\u001b[39;00m\n\u001b[1;32m     10\u001b[0m relative_frequency \u001b[38;5;241m=\u001b[39m grouped_frequency \u001b[38;5;241m/\u001b[39m grouped_frequency\u001b[38;5;241m.\u001b[39msum()\n",
      "File \u001b[0;32m~/anaconda3/envs/DL_new/lib/python3.10/site-packages/pandas/core/reshape/tile.py:242\u001b[0m, in \u001b[0;36mcut\u001b[0;34m(x, bins, right, labels, retbins, precision, include_lowest, duplicates, ordered)\u001b[0m\n\u001b[1;32m    239\u001b[0m \u001b[38;5;66;03m# NOTE: this binning code is changed a bit from histogram for var(x) == 0\u001b[39;00m\n\u001b[1;32m    241\u001b[0m original \u001b[38;5;241m=\u001b[39m x\n\u001b[0;32m--> 242\u001b[0m x \u001b[38;5;241m=\u001b[39m \u001b[43m_preprocess_for_cut\u001b[49m\u001b[43m(\u001b[49m\u001b[43mx\u001b[49m\u001b[43m)\u001b[49m\n\u001b[1;32m    243\u001b[0m x, dtype \u001b[38;5;241m=\u001b[39m _coerce_to_type(x)\n\u001b[1;32m    245\u001b[0m \u001b[38;5;28;01mif\u001b[39;00m \u001b[38;5;129;01mnot\u001b[39;00m np\u001b[38;5;241m.\u001b[39miterable(bins):\n",
      "File \u001b[0;32m~/anaconda3/envs/DL_new/lib/python3.10/site-packages/pandas/core/reshape/tile.py:602\u001b[0m, in \u001b[0;36m_preprocess_for_cut\u001b[0;34m(x)\u001b[0m\n\u001b[1;32m    600\u001b[0m     x \u001b[38;5;241m=\u001b[39m np\u001b[38;5;241m.\u001b[39masarray(x)\n\u001b[1;32m    601\u001b[0m \u001b[38;5;28;01mif\u001b[39;00m x\u001b[38;5;241m.\u001b[39mndim \u001b[38;5;241m!=\u001b[39m \u001b[38;5;241m1\u001b[39m:\n\u001b[0;32m--> 602\u001b[0m     \u001b[38;5;28;01mraise\u001b[39;00m \u001b[38;5;167;01mValueError\u001b[39;00m(\u001b[38;5;124m\"\u001b[39m\u001b[38;5;124mInput array must be 1 dimensional\u001b[39m\u001b[38;5;124m\"\u001b[39m)\n\u001b[1;32m    604\u001b[0m \u001b[38;5;28;01mreturn\u001b[39;00m x\n",
      "\u001b[0;31mValueError\u001b[0m: Input array must be 1 dimensional"
     ]
    }
   ],
   "source": [
    "# Define bins for the grouped frequency distribution\n",
    "min_width = df.min()\n",
    "max_width = df.max()\n",
    "bins = np.linspace(min_width, max_width, len(df))  # Adjust the number of bins as necessary\n",
    "\n",
    "# Create grouped frequency distribution\n",
    "grouped_frequency = pd.cut(df, bins).value_counts().sort_index()\n",
    "\n",
    "# Calculate relative frequency\n",
    "relative_frequency = grouped_frequency / grouped_frequency.sum()\n",
    "\n",
    "# Find the highest relative frequency\n",
    "highest_relative_frequency = relative_frequency.max()\n"
   ]
  },
  {
   "cell_type": "code",
   "execution_count": 15,
   "id": "8ca9234f",
   "metadata": {},
   "outputs": [
    {
     "ename": "NameError",
     "evalue": "name 'grouped_frequency' is not defined",
     "output_type": "error",
     "traceback": [
      "\u001b[0;31m---------------------------------------------------------------------------\u001b[0m",
      "\u001b[0;31mNameError\u001b[0m                                 Traceback (most recent call last)",
      "Input \u001b[0;32mIn [15]\u001b[0m, in \u001b[0;36m<cell line: 1>\u001b[0;34m()\u001b[0m\n\u001b[0;32m----> 1\u001b[0m \u001b[43mgrouped_frequency\u001b[49m\n",
      "\u001b[0;31mNameError\u001b[0m: name 'grouped_frequency' is not defined"
     ]
    }
   ],
   "source": [
    "grouped_frequency "
   ]
  },
  {
   "cell_type": "code",
   "execution_count": 68,
   "id": "d1f9a5f3",
   "metadata": {
    "scrolled": true
   },
   "outputs": [
    {
     "data": {
      "text/plain": [
       "(array([ 2.,  6.,  7.,  7.,  7., 10.,  4.,  2.,  3.,  2.]),\n",
       " array([ 60. ,  64.5,  69. ,  73.5,  78. ,  82.5,  87. ,  91.5,  96. ,\n",
       "        100.5, 105. ]),\n",
       " <BarContainer object of 10 artists>)"
      ]
     },
     "execution_count": 68,
     "metadata": {},
     "output_type": "execute_result"
    },
    {
     "data": {
      "image/png": "[encoded data removed]",
      "text/plain": [
       "<Figure size 432x288 with 1 Axes>"
      ]
     },
     "metadata": {
      "needs_background": "light"
     },
     "output_type": "display_data"
    }
   ],
   "source": [
    "plt.hist(df,bins=10, edgecolor='black')"
   ]
  },
  {
   "cell_type": "code",
   "execution_count": 33,
   "id": "e643e74a",
   "metadata": {},
   "outputs": [],
   "source": [
    "frequency, bins = np.histogram(df, bins=10 )"
   ]
  },
  {
   "cell_type": "code",
   "execution_count": 34,
   "id": "3207f471",
   "metadata": {},
   "outputs": [],
   "source": [
    "df_frequency = pd.DataFrame({'BinRange': pd.IntervalIndex.from_arrays(bins[:-1], bins[1:]), 'Frequency': frequency})"
   ]
  },
  {
   "cell_type": "code",
   "execution_count": 35,
   "id": "052141ba",
   "metadata": {},
   "outputs": [
    {
     "data": {
      "text/html": [
       "<div>\n",
       "<style scoped>\n",
       "    .dataframe tbody tr th:only-of-type {\n",
       "        vertical-align: middle;\n",
       "    }\n",
       "\n",
       "    .dataframe tbody tr th {\n",
       "        vertical-align: top;\n",
       "    }\n",
       "\n",
       "    .dataframe thead th {\n",
       "        text-align: right;\n",
       "    }\n",
       "</style>\n",
       "<table border=\"1\" class=\"dataframe\">\n",
       "  <thead>\n",
       "    <tr style=\"text-align: right;\">\n",
       "      <th></th>\n",
       "      <th>BinRange</th>\n",
       "      <th>Frequency</th>\n",
       "    </tr>\n",
       "  </thead>\n",
       "  <tbody>\n",
       "    <tr>\n",
       "      <th>0</th>\n",
       "      <td>(60.0, 64.5]</td>\n",
       "      <td>2</td>\n",
       "    </tr>\n",
       "    <tr>\n",
       "      <th>1</th>\n",
       "      <td>(64.5, 69.0]</td>\n",
       "      <td>6</td>\n",
       "    </tr>\n",
       "    <tr>\n",
       "      <th>2</th>\n",
       "      <td>(69.0, 73.5]</td>\n",
       "      <td>7</td>\n",
       "    </tr>\n",
       "    <tr>\n",
       "      <th>3</th>\n",
       "      <td>(73.5, 78.0]</td>\n",
       "      <td>7</td>\n",
       "    </tr>\n",
       "    <tr>\n",
       "      <th>4</th>\n",
       "      <td>(78.0, 82.5]</td>\n",
       "      <td>7</td>\n",
       "    </tr>\n",
       "    <tr>\n",
       "      <th>5</th>\n",
       "      <td>(82.5, 87.0]</td>\n",
       "      <td>10</td>\n",
       "    </tr>\n",
       "    <tr>\n",
       "      <th>6</th>\n",
       "      <td>(87.0, 91.5]</td>\n",
       "      <td>4</td>\n",
       "    </tr>\n",
       "    <tr>\n",
       "      <th>7</th>\n",
       "      <td>(91.5, 96.0]</td>\n",
       "      <td>2</td>\n",
       "    </tr>\n",
       "    <tr>\n",
       "      <th>8</th>\n",
       "      <td>(96.0, 100.5]</td>\n",
       "      <td>3</td>\n",
       "    </tr>\n",
       "    <tr>\n",
       "      <th>9</th>\n",
       "      <td>(100.5, 105.0]</td>\n",
       "      <td>2</td>\n",
       "    </tr>\n",
       "  </tbody>\n",
       "</table>\n",
       "</div>"
      ],
      "text/plain": [
       "         BinRange  Frequency\n",
       "0    (60.0, 64.5]          2\n",
       "1    (64.5, 69.0]          6\n",
       "2    (69.0, 73.5]          7\n",
       "3    (73.5, 78.0]          7\n",
       "4    (78.0, 82.5]          7\n",
       "5    (82.5, 87.0]         10\n",
       "6    (87.0, 91.5]          4\n",
       "7    (91.5, 96.0]          2\n",
       "8   (96.0, 100.5]          3\n",
       "9  (100.5, 105.0]          2"
      ]
     },
     "execution_count": 35,
     "metadata": {},
     "output_type": "execute_result"
    }
   ],
   "source": [
    "df_frequency "
   ]
  },
  {
   "cell_type": "code",
   "execution_count": 37,
   "id": "23b7cdb1",
   "metadata": {},
   "outputs": [],
   "source": [
    "import matplotlib.pyplot as plt\n",
    "import seaborn as sns"
   ]
  },
  {
   "cell_type": "code",
   "execution_count": 39,
   "id": "bb3c11a8",
   "metadata": {
    "scrolled": true
   },
   "outputs": [
    {
     "data": {
      "image/png": "[encoded data removed]",
      "text/plain": [
       "<Figure size 432x288 with 1 Axes>"
      ]
     },
     "metadata": {
      "needs_background": "light"
     },
     "output_type": "display_data"
    }
   ],
   "source": [
    "# Box and whisker plot\n",
    "sns.boxplot(df)\n",
    "plt.title('Box and Whisker Plot')\n",
    "plt.show()\n"
   ]
  },
  {
   "cell_type": "code",
   "execution_count": null,
   "id": "108551a1",
   "metadata": {},
   "outputs": [],
   "source": []
  },
  {
   "cell_type": "code",
   "execution_count": 41,
   "id": "c5ab310d",
   "metadata": {},
   "outputs": [
    {
     "data": {
      "text/plain": [
       "centistokes    78.5\n",
       "dtype: float64"
      ]
     },
     "execution_count": 41,
     "metadata": {},
     "output_type": "execute_result"
    }
   ],
   "source": [
    "df.median()"
   ]
  },
  {
   "cell_type": "code",
   "execution_count": null,
   "id": "1533234d",
   "metadata": {},
   "outputs": [],
   "source": []
  },
  {
   "cell_type": "markdown",
   "id": "43292a71",
   "metadata": {},
   "source": [
    "# 2"
   ]
  },
  {
   "cell_type": "code",
   "execution_count": 44,
   "id": "f83ec840",
   "metadata": {},
   "outputs": [],
   "source": [
    "dft= pd.read_csv(\"yield.txt\",delimiter=' ')"
   ]
  },
  {
   "cell_type": "code",
   "execution_count": 54,
   "id": "8e604d9c",
   "metadata": {},
   "outputs": [],
   "source": [
    "dft_rounded=dft.round()"
   ]
  },
  {
   "cell_type": "code",
   "execution_count": 62,
   "id": "b9060b1a",
   "metadata": {},
   "outputs": [
    {
     "data": {
      "text/plain": [
       "strength\n",
       "264.0       1\n",
       "220.0       1\n",
       "223.0       1\n",
       "225.0       1\n",
       "233.0       1\n",
       "241.0       1\n",
       "245.0       1\n",
       "248.0       1\n",
       "251.0       1\n",
       "253.0       1\n",
       "254.0       1\n",
       "257.0       1\n",
       "258.0       1\n",
       "205.0       1\n",
       "259.0       1\n",
       "208.0       1\n",
       "298.0       1\n",
       "288.0       1\n",
       "286.0       1\n",
       "282.0       1\n",
       "279.0       1\n",
       "263.0       1\n",
       "192.0       1\n",
       "271.0       1\n",
       "267.0       1\n",
       "266.0       1\n",
       "297.0       1\n",
       "268.0       2\n",
       "281.0       2\n",
       "255.0       2\n",
       "274.0       2\n",
       "275.0       2\n",
       "265.0       3\n",
       "dtype: int64"
      ]
     },
     "execution_count": 62,
     "metadata": {},
     "output_type": "execute_result"
    }
   ],
   "source": [
    "dft_rounded.value_counts().sort_values()"
   ]
  },
  {
   "cell_type": "code",
   "execution_count": 53,
   "id": "30f5d04c",
   "metadata": {},
   "outputs": [
    {
     "data": {
      "text/plain": [
       "strength    298.0\n",
       "dtype: float64"
      ]
     },
     "execution_count": 53,
     "metadata": {},
     "output_type": "execute_result"
    }
   ],
   "source": [
    "max_value"
   ]
  },
  {
   "cell_type": "code",
   "execution_count": 63,
   "id": "a60bf97a",
   "metadata": {},
   "outputs": [
    {
     "data": {
      "text/plain": [
       "(array([1., 2., 2., 2., 2., 6., 9., 8., 5., 3.]),\n",
       " array([192.3 , 202.87, 213.44, 224.01, 234.58, 245.15, 255.72, 266.29,\n",
       "        276.86, 287.43, 298.  ]),\n",
       " <BarContainer object of 10 artists>)"
      ]
     },
     "execution_count": 63,
     "metadata": {},
     "output_type": "execute_result"
    },
    {
     "data": {
      "image/png": "[encoded data removed]",
      "text/plain": [
       "<Figure size 432x288 with 1 Axes>"
      ]
     },
     "metadata": {
      "needs_background": "light"
     },
     "output_type": "display_data"
    }
   ],
   "source": [
    "plt.hist(dft, edgecolor='black')"
   ]
  },
  {
   "cell_type": "code",
   "execution_count": null,
   "id": "476e4609",
   "metadata": {},
   "outputs": [],
   "source": []
  },
  {
   "cell_type": "code",
   "execution_count": 69,
   "id": "a647e0f2",
   "metadata": {},
   "outputs": [],
   "source": [
    "test=pd.DataFrame([6.649, 6.639, 6.629, 6.642, 6.624, 6.616, 6.649, 6.654, 6.649, 6.642, 6.649, 6.637, 6.649, 6.647, 6.644, 6.657, 6.654, 6.634, 6.644, 6.649])"
   ]
  },
  {
   "cell_type": "code",
   "execution_count": 74,
   "id": "bd1c9a70",
   "metadata": {},
   "outputs": [
    {
     "data": {
      "text/html": [
       "<div>\n",
       "<style scoped>\n",
       "    .dataframe tbody tr th:only-of-type {\n",
       "        vertical-align: middle;\n",
       "    }\n",
       "\n",
       "    .dataframe tbody tr th {\n",
       "        vertical-align: top;\n",
       "    }\n",
       "\n",
       "    .dataframe thead th {\n",
       "        text-align: right;\n",
       "    }\n",
       "</style>\n",
       "<table border=\"1\" class=\"dataframe\">\n",
       "  <thead>\n",
       "    <tr style=\"text-align: right;\">\n",
       "      <th></th>\n",
       "      <th>0</th>\n",
       "    </tr>\n",
       "  </thead>\n",
       "  <tbody>\n",
       "    <tr>\n",
       "      <th>count</th>\n",
       "      <td>20.000000</td>\n",
       "    </tr>\n",
       "    <tr>\n",
       "      <th>mean</th>\n",
       "      <td>6.642850</td>\n",
       "    </tr>\n",
       "    <tr>\n",
       "      <th>std</th>\n",
       "      <td>0.010494</td>\n",
       "    </tr>\n",
       "    <tr>\n",
       "      <th>min</th>\n",
       "      <td>6.616000</td>\n",
       "    </tr>\n",
       "    <tr>\n",
       "      <th>25%</th>\n",
       "      <td>6.638500</td>\n",
       "    </tr>\n",
       "    <tr>\n",
       "      <th>50%</th>\n",
       "      <td>6.645500</td>\n",
       "    </tr>\n",
       "    <tr>\n",
       "      <th>75%</th>\n",
       "      <td>6.649000</td>\n",
       "    </tr>\n",
       "    <tr>\n",
       "      <th>max</th>\n",
       "      <td>6.657000</td>\n",
       "    </tr>\n",
       "  </tbody>\n",
       "</table>\n",
       "</div>"
      ],
      "text/plain": [
       "               0\n",
       "count  20.000000\n",
       "mean    6.642850\n",
       "std     0.010494\n",
       "min     6.616000\n",
       "25%     6.638500\n",
       "50%     6.645500\n",
       "75%     6.649000\n",
       "max     6.657000"
      ]
     },
     "execution_count": 74,
     "metadata": {},
     "output_type": "execute_result"
    }
   ],
   "source": [
    "test.describe()"
   ]
  },
  {
   "cell_type": "code",
   "execution_count": 75,
   "id": "c3f45338",
   "metadata": {},
   "outputs": [
    {
     "data": {
      "text/plain": [
       "0    6.6455\n",
       "dtype: float64"
      ]
     },
     "execution_count": 75,
     "metadata": {},
     "output_type": "execute_result"
    }
   ],
   "source": [
    "test.median()"
   ]
  },
  {
   "cell_type": "code",
   "execution_count": 76,
   "id": "67ff7085",
   "metadata": {},
   "outputs": [
    {
     "data": {
      "text/plain": [
       "0    0.010494\n",
       "dtype: float64"
      ]
     },
     "execution_count": 76,
     "metadata": {},
     "output_type": "execute_result"
    }
   ],
   "source": [
    "test.std()"
   ]
  },
  {
   "cell_type": "code",
   "execution_count": null,
   "id": "b8b22b7c",
   "metadata": {},
   "outputs": [],
   "source": [
    "#mean greater than mode and median, positive skew\n",
    "#mean smaller than mode and median negative skew"
   ]
  },
  {
   "cell_type": "code",
   "execution_count": 1,
   "id": "611084b2",
   "metadata": {},
   "outputs": [],
   "source": [
    "from scipy.stats import binom\n",
    "\n",
    "# Given values\n",
    "n = 400  # number of trials\n",
    "p = 0.02  # probability of finding a defective part\n",
    "\n",
    "# Calculate probability of finding 0, 1, 2, 3, or 4 defectives\n",
    "probability = sum([binom.pmf(k, n, p) for k in range(5)])\n",
    "\n",
    "# Round the answer\n",
    "rounded_probability = round(probability, 4)"
   ]
  },
  {
   "cell_type": "code",
   "execution_count": 4,
   "id": "4da6ad7e",
   "metadata": {},
   "outputs": [
    {
     "data": {
      "text/plain": [
       "0.0973"
      ]
     },
     "execution_count": 4,
     "metadata": {},
     "output_type": "execute_result"
    }
   ],
   "source": [
    "rounded_probability"
   ]
  },
  {
   "cell_type": "code",
   "execution_count": 5,
   "id": "082cd8c0",
   "metadata": {},
   "outputs": [
    {
     "name": "stdout",
     "output_type": "stream",
     "text": [
      "Probability of shipping 50 pallets or more: 0.9765\n"
     ]
    }
   ],
   "source": [
    "from scipy.stats import poisson\n",
    "\n",
    "# Given value\n",
    "lambda_ = 65  # average number of pallets shipped per day\n",
    "\n",
    "# Calculate the probability of shipping fewer than 50 pallets\n",
    "prob_less_than_50 = poisson.cdf(49, lambda_)\n",
    "\n",
    "# Probability of shipping 50 pallets or more\n",
    "prob_50_or_more = 1 - prob_less_than_50\n",
    "\n",
    "# Round the answer\n",
    "rounded_probability = round(prob_50_or_more, 4)\n",
    "\n",
    "print(\"Probability of shipping 50 pallets or more:\", rounded_probability)"
   ]
  },
  {
   "cell_type": "code",
   "execution_count": 6,
   "id": "b46a86b5",
   "metadata": {},
   "outputs": [
    {
     "name": "stdout",
     "output_type": "stream",
     "text": [
      "Probability of a part being out of specification: 0.6755\n"
     ]
    }
   ],
   "source": [
    "from scipy.stats import norm\n",
    "\n",
    "# Given values\n",
    "mean = 153  # μ\n",
    "std_dev = 10  # σ\n",
    "lower_spec_limit = 154\n",
    "upper_spec_limit = 164\n",
    "\n",
    "# Probability of being below the lower specification limit\n",
    "prob_below_lower = norm.cdf(lower_spec_limit, mean, std_dev)\n",
    "\n",
    "# Probability of being above the upper specification limit\n",
    "prob_above_upper = 1 - norm.cdf(upper_spec_limit, mean, std_dev)\n",
    "\n",
    "# Total probability of being out of specification\n",
    "prob_out_of_spec = prob_below_lower + prob_above_upper\n",
    "\n",
    "# Round the answer\n",
    "rounded_probability = round(prob_out_of_spec, 4)\n",
    "\n",
    "print(\"Probability of a part being out of specification:\", rounded_probability)\n"
   ]
  },
  {
   "cell_type": "code",
   "execution_count": 7,
   "id": "50298234",
   "metadata": {},
   "outputs": [
    {
     "name": "stdout",
     "output_type": "stream",
     "text": [
      "Probability of a motor running 10,000 hours or less: 0.2212\n"
     ]
    }
   ],
   "source": [
    "import math\n",
    "\n",
    "# Given values\n",
    "mean_time_to_failure = 40000  # μ\n",
    "time_of_interest = 10000\n",
    "\n",
    "# Calculate λ (lambda) from the mean\n",
    "lambda_ = 1 / mean_time_to_failure\n",
    "\n",
    "# Calculate the probability of failure by 10000 hours\n",
    "probability = 1 - math.exp(-lambda_ * time_of_interest)\n",
    "\n",
    "# Round the answer\n",
    "rounded_probability = round(probability, 4)\n",
    "\n",
    "print(\"Probability of a motor running 10,000 hours or less:\", rounded_probability)\n"
   ]
  },
  {
   "cell_type": "code",
   "execution_count": 11,
   "id": "7ad757e9",
   "metadata": {},
   "outputs": [
    {
     "name": "stdout",
     "output_type": "stream",
     "text": [
      "Minimum sample size: 3\n"
     ]
    }
   ],
   "source": [
    "import scipy.stats as stats\n",
    "\n",
    "# Given values\n",
    "alpha = 0.025  # For each tail in a two-tailed test\n",
    "beta = 0.01\n",
    "delta_mu = 5  # lbs\n",
    "sigma = 2  # lbs\n",
    "\n",
    "# Z-scores for alpha/2 and beta\n",
    "z_alpha_2 = stats.norm.ppf(1 - alpha)\n",
    "z_beta = stats.norm.ppf(1 - beta)\n",
    "\n",
    "# Calculating sample size\n",
    "n = ((z_alpha_2 + z_beta) * sigma / delta_mu) ** 2\n",
    "\n",
    "print(\"Minimum sample size:\", round(n))"
   ]
  },
  {
   "cell_type": "code",
   "execution_count": 10,
   "id": "4409bc3b",
   "metadata": {},
   "outputs": [
    {
     "name": "stdout",
     "output_type": "stream",
     "text": [
      "Minimum sample size: 63\n"
     ]
    }
   ],
   "source": [
    "import scipy.stats as stats\n",
    "\n",
    "# Given values\n",
    "alpha = 0.01  # For each tail in a two-tailed test\n",
    "beta = 0.05\n",
    "delta_mu = 1  # lbs\n",
    "sigma = 2  # lbs\n",
    "\n",
    "# Z-scores for alpha/2 and beta\n",
    "z_alpha_2 = stats.norm.ppf(1 - alpha)\n",
    "z_beta = stats.norm.ppf(1 - beta)\n",
    "\n",
    "# Calculating sample size\n",
    "n = ((z_alpha_2 + z_beta) * sigma / delta_mu) ** 2\n",
    "\n",
    "print(\"Minimum sample size:\", round(n))"
   ]
  },
  {
   "cell_type": "code",
   "execution_count": 12,
   "id": "83599bdf",
   "metadata": {},
   "outputs": [
    {
     "data": {
      "text/plain": [
       "1.2225976594854784"
      ]
     },
     "execution_count": 12,
     "metadata": {},
     "output_type": "execute_result"
    }
   ],
   "source": [
    "mean_earmuffs = 72  # mean for earmuffs group\n",
    "n_earmuffs = 12     # sample size for earmuffs group\n",
    "sd_earmuffs = 15    # standard deviation for earmuffs group\n",
    "\n",
    "mean_earplugs = 64  # mean for foam earplugs group\n",
    "n_earplugs = 15     # sample size for foam earplugs group\n",
    "sd_earplugs = 19    # standard deviation for foam earplugs group\n",
    "\n",
    "# Calculating the test statistic\n",
    "# Calculate the standard error\n",
    "se = math.sqrt((sd_earmuffs**2 / n_earmuffs) + (sd_earplugs**2 / n_earplugs))\n",
    "\n",
    "# Calculate the t-statistic\n",
    "t_statistic = (mean_earmuffs - mean_earplugs) / se\n",
    "t_statistic"
   ]
  },
  {
   "cell_type": "code",
   "execution_count": 13,
   "id": "bec94c14",
   "metadata": {},
   "outputs": [
    {
     "data": {
      "text/plain": [
       "0.23288323088506702"
      ]
     },
     "execution_count": 13,
     "metadata": {},
     "output_type": "execute_result"
    }
   ],
   "source": [
    "\n",
    "# Calculating degrees of freedom using the Welch-Satterthwaite equation\n",
    "df = ( ((sd_earmuffs**2 / n_earmuffs) + (sd_earplugs**2 / n_earplugs))**2 / \n",
    "       ((sd_earmuffs**2 / n_earmuffs)**2 / (n_earmuffs - 1) + \n",
    "        (sd_earplugs**2 / n_earplugs)**2 / (n_earplugs - 1)) )\n",
    "\n",
    "# Calculate the two-tailed p-value\n",
    "p_value = stats.t.sf(abs(t_statistic), df) * 2  # multiply by 2 for two-tailed test\n",
    "p_value"
   ]
  },
  {
   "cell_type": "code",
   "execution_count": 14,
   "id": "e7d64917",
   "metadata": {},
   "outputs": [],
   "source": [
    "from scipy.stats import chi2\n",
    "import numpy as np"
   ]
  },
  {
   "cell_type": "code",
   "execution_count": 18,
   "id": "d64b2433",
   "metadata": {},
   "outputs": [
    {
     "name": "stdout",
     "output_type": "stream",
     "text": [
      "                 Generalized Linear Model Regression Results                  \n",
      "==============================================================================\n",
      "Dep. Variable:                      y   No. Observations:                    2\n",
      "Model:                            GLM   Df Residuals:                        1\n",
      "Model Family:                 Poisson   Df Model:                            0\n",
      "Link Function:                    Log   Scale:                          1.0000\n",
      "Method:                          IRLS   Log-Likelihood:                -4.5999\n",
      "Date:                Thu, 14 Dec 2023   Deviance:                      0.48562\n",
      "Time:                        00:44:15   Pearson chi2:                    0.500\n",
      "No. Iterations:                     4   Pseudo R-squ. (CS):          3.553e-15\n",
      "Covariance Type:            nonrobust                                         \n",
      "==============================================================================\n",
      "                 coef    std err          z      P>|z|      [0.025      0.975]\n",
      "------------------------------------------------------------------------------\n",
      "const          2.1203      0.200     10.601      0.000       1.728       2.512\n",
      "==============================================================================\n"
     ]
    }
   ],
   "source": [
    "import statsmodels.api as sm\n",
    "import numpy as np\n",
    "\n",
    "# Observed accidents\n",
    "accidents_before = 15\n",
    "accidents_after = 10\n",
    "\n",
    "# Time periods in years\n",
    "time_before = 2\n",
    "time_after = 1\n",
    "\n",
    "# Exposure (total time in each period)\n",
    "exposure = np.array([time_before, time_after])\n",
    "\n",
    "# Count of accidents in each period\n",
    "count = np.array([accidents_before, accidents_after])\n",
    "\n",
    "# Define the model (Poisson)\n",
    "model = sm.GLM(count, np.ones_like(count), family=sm.families.Poisson(), exposure=exposure)\n",
    "\n",
    "# Fit the model\n",
    "results = model.fit()\n",
    "\n",
    "# Print the summary of the model fit\n",
    "print(results.summary())"
   ]
  },
  {
   "cell_type": "code",
   "execution_count": 22,
   "id": "a00d6c5a",
   "metadata": {},
   "outputs": [
    {
     "data": {
      "text/plain": [
       "(0.674199862463242, 0.0011061687402956675)"
      ]
     },
     "execution_count": 22,
     "metadata": {},
     "output_type": "execute_result"
    }
   ],
   "source": [
    "from scipy.stats import poisson\n",
    "\n",
    "# Accident data\n",
    "accidents_before = 15  # number of accidents in the initial 2-year period\n",
    "accidents_after = 10   # number of accidents in the 1-year period after the safety program\n",
    "\n",
    "# Time periods\n",
    "years_before = 2\n",
    "years_after = 1\n",
    "\n",
    "# Calculating the accident rates (accidents per year)\n",
    "rate_before = accidents_before / years_before\n",
    "rate_after = accidents_after / years_after\n",
    "\n",
    "# Performing a test for the difference of two Poisson rates\n",
    "# We can approximate this with a normal distribution when the counts are high enough, which they are in this case.\n",
    "# The variance of a Poisson distribution is equal to its mean, so the standard error for the difference is:\n",
    "se_diff = (rate_before / years_before + rate_after / years_after) ** 0.5\n",
    "\n",
    "# Test statistic for the difference in rates (z-score)\n",
    "z_score = (rate_after - rate_before) / se_diff\n",
    "\n",
    "# P-value from the z-score\n",
    "# We use a two-tailed test since we are interested in any change, not just an increase or decrease.\n",
    "p_value = poisson.cdf(z_score, rate_before) * 2\n",
    "\n",
    "z_score, p_value"
   ]
  },
  {
   "cell_type": "code",
   "execution_count": null,
   "id": "f2dc1a4e",
   "metadata": {},
   "outputs": [],
   "source": []
  }
 ],
 "metadata": {
  "kernelspec": {
   "display_name": "Python 3 (ipykernel)",
   "language": "python",
   "name": "python3"
  },
  "language_info": {
   "codemirror_mode": {
    "name": "ipython",
    "version": 3
   },
   "file_extension": ".py",
   "mimetype": "text/x-python",
   "name": "python",
   "nbconvert_exporter": "python",
   "pygments_lexer": "ipython3",
   "version": "3.10.4"
  }
 },
 "nbformat": 4,
 "nbformat_minor": 5
}

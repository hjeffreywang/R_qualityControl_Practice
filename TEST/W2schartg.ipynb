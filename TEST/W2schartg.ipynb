{
 "cells": [
  {
   "cell_type": "code",
   "execution_count": 16,
   "id": "cbe355c4",
   "metadata": {},
   "outputs": [],
   "source": [
    "import pandas as pd"
   ]
  },
  {
   "cell_type": "code",
   "execution_count": 17,
   "id": "e4ee0ce0",
   "metadata": {},
   "outputs": [],
   "source": [
    "#df=pd.read_csv('Bagweight.txt',delimiter= \"\\t\" )"
   ]
  },
  {
   "cell_type": "code",
   "execution_count": 22,
   "id": "026e2543",
   "metadata": {},
   "outputs": [],
   "source": [
    "df=pd.read_csv('NKgE2MCPS52oBNjAjyudNA_7ccee294a9334085af6a58bf5e4d16f1_ShearedSheet (1).txt',delimiter= \"\\t\" )"
   ]
  },
  {
   "cell_type": "code",
   "execution_count": 23,
   "id": "6cb8eb12",
   "metadata": {},
   "outputs": [
    {
     "data": {
      "text/plain": [
       "<AxesSubplot: >"
      ]
     },
     "execution_count": 23,
     "metadata": {},
     "output_type": "execute_result"
    },
    {
     "data": {
      "image/png": "[encoded data removed]",
      "text/plain": [
       "<Figure size 432x288 with 1 Axes>"
      ]
     },
     "metadata": {
      "needs_background": "light"
     },
     "output_type": "display_data"
    }
   ],
   "source": [
    "df.plot()"
   ]
  },
  {
   "cell_type": "code",
   "execution_count": 26,
   "id": "0941a58a",
   "metadata": {},
   "outputs": [
    {
     "data": {
      "text/plain": [
       "(1.2477419354838712, 3.173225806451613)"
      ]
     },
     "execution_count": 26,
     "metadata": {},
     "output_type": "execute_result"
    }
   ],
   "source": [
    "# To calculate the centerline for the Xbar chart, we need to compute the average of the subgroup averages.\n",
    "# Each subgroup in this case is a production lot.\n",
    "\n",
    "# Grouping the data by 'Subgroup' and calculating the mean of 'Width_Deviation' for each subgroup.\n",
    "subgroup_means = df.groupby('Subgroup')['Width_Deviation'].mean()\n",
    "\n",
    "# Calculating the overall average (centerline) for the Xbar chart.\n",
    "xbar_centerline = subgroup_means.mean()\n",
    "\n",
    "# To calculate the centerline for the dispersion chart, which is typically an R-bar chart in this context,\n",
    "# we need to calculate the average range of the subgroups.\n",
    "\n",
    "# Calculating the range (max-min) for each subgroup.\n",
    "subgroup_ranges = df.groupby('Subgroup')['Width_Deviation'].apply(lambda x: x.max() - x.min())\n",
    "\n",
    "# Calculating the overall average range (R-bar).\n",
    "rbar_centerline = subgroup_ranges.mean()\n",
    "\n",
    "xbar_centerline, rbar_centerline\n"
   ]
  },
  {
   "cell_type": "code",
   "execution_count": 27,
   "id": "fb1f8c6c",
   "metadata": {},
   "outputs": [
    {
     "data": {
      "text/plain": [
       "(1.1341956961726731,\n",
       " 3.4639603258052745,\n",
       " -0.968476454837532,\n",
       " 2.397689701709031,\n",
       " 0.20869200809577185)"
      ]
     },
     "execution_count": 27,
     "metadata": {},
     "output_type": "execute_result"
    }
   ],
   "source": [
    "# Calculating the standard deviation for each subgroup.\n",
    "subgroup_std = df.groupby('Subgroup')['Width_Deviation'].std()\n",
    "\n",
    "# Calculating the average standard deviation (centerline for the S chart).\n",
    "sbar_centerline = subgroup_std.mean()\n",
    "\n",
    "# Constants for Xbar chart using S chart (n=8)\n",
    "A3 = 1.954  # A3 factor for n=8\n",
    "\n",
    "# Calculating UCL and LCL for the Xbar chart using S chart constants\n",
    "UCL_xbar_s = xbar_centerline + A3 * sbar_centerline\n",
    "LCL_xbar_s = xbar_centerline - A3 * sbar_centerline\n",
    "\n",
    "# Constants for S chart\n",
    "B3 = 0.184  # B3 factor for n=8\n",
    "B4 = 2.114  # B4 factor for n=8\n",
    "\n",
    "# Calculating UCL and LCL for the S chart\n",
    "UCL_s = B4 * sbar_centerline\n",
    "LCL_s = B3 * sbar_centerline\n",
    "\n",
    "sbar_centerline, UCL_xbar_s, LCL_xbar_s, UCL_s, LCL_s"
   ]
  },
  {
   "cell_type": "code",
   "execution_count": null,
   "id": "b0023422",
   "metadata": {},
   "outputs": [],
   "source": []
  },
  {
   "cell_type": "code",
   "execution_count": null,
   "id": "08102124",
   "metadata": {},
   "outputs": [],
   "source": [
    "\n",
    "nqtr(summary.continuous(Bagofweights$Deviation), 5)\n",
    "summary(Bagofweights$Deviation)\n",
    "hist.grouped(Bagofweights$Deviation, anchor.value = 38)\n",
    "hist.grouped(Bagofweights$Deviation, xlim=c(min(Bagofweights$Deviation),max(Bagofweights$Deviation)), anchor.value = min(Bagofweights$Deviation),main = \"Original Temperature Data\")\n",
    "hist.add.distribution.curve.normal(x = Bagofweights$Deviation)\n",
    "\n",
    "spc.individuals.chart(Bagofweights$Deviation)\n",
    "\n",
    "# When data are slightly positively skewed, and kurtosis\n",
    "# is ok, the lognormal transformation may be used\n",
    "\n",
    "# Lognormal Transformation\n",
    "Bagofweights$Deviation<-log(Bagofweights$Deviation)\n",
    "\n",
    "\n",
    "\n",
    "\n",
    "# Check transformed data for normality\n",
    "nqtr(summary.continuous(Bagofweights$Deviation),5)\n",
    "hist.grouped(Bagofweights$Deviation, anchor.value = 3.61, interval.size = 0.03, freq = F)\n",
    "hist.add.distribution.curve.normal(x = Bagofweights$Deviation, freq = F)\n",
    "\n",
    "# Find the Upper Natural Process Limit and \n",
    "# Lower Natural Process Limit on the transformed data\n",
    "natural.tolerance.normal(x = Bagofweights$Deviation)\n",
    "Delivery.ln<-natural.tolerance.normal(x = Bagofweights$Deviation)\n",
    "(LNPL.ln<-Delivery.ln$lower.limit)\n",
    "(UNPL.ln<-Delivery.ln$upper.limit)\n",
    "\n",
    "# Transform UNPL and LNPL back to original data\n",
    "(LNPL<-exp(LNPL.ln))\n",
    "(UNPL<-exp(UNPL.ln))\n",
    "\n",
    "# Overall natural tolerance\n",
    "UNPL-LNPL\n",
    "\n",
    "# Create X and moving range chart with new limits for X chart\n",
    "spc.chart.variables.individual.and.movingrange.generic.simple(individuals = Bagofweights$Deviation\n",
    "                                                              ,chart1.center.line = median(Bagofweights$Deviation)\n",
    "                                                              ,chart1.control.limits.lcl = LNPL\n",
    "                                                              ,chart1.control.limits.ucl = UNPL)"
   ]
  }
 ],
 "metadata": {
  "kernelspec": {
   "display_name": "Python 3 (ipykernel)",
   "language": "python",
   "name": "python3"
  },
  "language_info": {
   "codemirror_mode": {
    "name": "ipython",
    "version": 3
   },
   "file_extension": ".py",
   "mimetype": "text/x-python",
   "name": "python",
   "nbconvert_exporter": "python",
   "pygments_lexer": "ipython3",
   "version": "3.10.4"
  }
 },
 "nbformat": 4,
 "nbformat_minor": 5
}

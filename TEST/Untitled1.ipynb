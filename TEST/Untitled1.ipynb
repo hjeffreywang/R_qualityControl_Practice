{
 "cells": [
  {
   "cell_type": "code",
   "execution_count": 3,
   "id": "9ad18139-d14d-4036-aac4-1f8a5efd7821",
   "metadata": {},
   "outputs": [
    {
     "data": {
      "text/html": [
       "<strong>inches:</strong> -0.00136114202564893"
      ],
      "text/latex": [
       "\\textbf{inches:} -0.00136114202564893"
      ],
      "text/markdown": [
       "**inches:** -0.00136114202564893"
      ],
      "text/plain": [
       "      inches \n",
       "-0.001361142 "
      ]
     },
     "metadata": {},
     "output_type": "display_data"
    }
   ],
   "source": [
    "df=read.csv(\"height.dat\")\n",
    "library(moments)\n",
    "  \n",
    "skewness(df)"
   ]
  },
  {
   "cell_type": "code",
   "execution_count": 5,
   "id": "3217fb0a-8584-4fae-9887-3dd1e0efdf7c",
   "metadata": {},
   "outputs": [
    {
     "ename": "ERROR",
     "evalue": "Error in test.skew(df): could not find function \"test.skew\"\n",
     "output_type": "error",
     "traceback": [
      "Error in test.skew(df): could not find function \"test.skew\"\nTraceback:\n"
     ]
    }
   ],
   "source": [
    "test.skew(df)"
   ]
  },
  {
   "cell_type": "code",
   "execution_count": null,
   "id": "a90c353e-431a-47ac-9485-a1c7b79b2b95",
   "metadata": {},
   "outputs": [],
   "source": []
  }
 ],
 "metadata": {
  "kernelspec": {
   "display_name": "R",
   "language": "R",
   "name": "ir"
  },
  "language_info": {
   "codemirror_mode": "r",
   "file_extension": ".r",
   "mimetype": "text/x-r-source",
   "name": "R",
   "pygments_lexer": "r",
   "version": "4.3.1"
  }
 },
 "nbformat": 4,
 "nbformat_minor": 5
}

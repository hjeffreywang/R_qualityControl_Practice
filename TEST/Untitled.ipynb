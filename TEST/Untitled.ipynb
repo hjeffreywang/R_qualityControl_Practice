{
 "cells": [
  {
   "cell_type": "code",
   "execution_count": 1,
   "id": "2f94d804",
   "metadata": {},
   "outputs": [],
   "source": [
    "import pandas as pd\n",
    "\n",
    "# Replace 'your_file.dat' with the path to your .dat file.\n",
    "# Replace 'your_delimiter' with the delimiter used in your file (e.g., '\\t' for tab).\n",
    "df = pd.read_csv(\"height.dat\",delimiter=' ')"
   ]
  },
  {
   "cell_type": "code",
   "execution_count": 120,
   "id": "a178e017",
   "metadata": {},
   "outputs": [],
   "source": [
    "from scipy.stats import skewtest\n",
    "from scipy.stats import skew"
   ]
  },
  {
   "cell_type": "code",
   "execution_count": 13,
   "id": "12668f34",
   "metadata": {},
   "outputs": [],
   "source": [
    "import pandas as pd\n",
    "from scipy.stats import norm"
   ]
  },
  {
   "cell_type": "code",
   "execution_count": 121,
   "id": "c22d3087",
   "metadata": {},
   "outputs": [
    {
     "data": {
      "text/plain": [
       "array([-0.00136114])"
      ]
     },
     "execution_count": 121,
     "metadata": {},
     "output_type": "execute_result"
    }
   ],
   "source": [
    "skew(df)"
   ]
  },
  {
   "cell_type": "code",
   "execution_count": 17,
   "id": "b159a902",
   "metadata": {},
   "outputs": [],
   "source": [
    "count = (df < 4.802).sum()"
   ]
  },
  {
   "cell_type": "code",
   "execution_count": 51,
   "id": "f1ea0fd2",
   "metadata": {},
   "outputs": [
    {
     "data": {
      "text/plain": [
       "inches    4.812047\n",
       "dtype: float64"
      ]
     },
     "execution_count": 51,
     "metadata": {},
     "output_type": "execute_result"
    }
   ],
   "source": [
    "df.mean()"
   ]
  },
  {
   "cell_type": "code",
   "execution_count": 20,
   "id": "3154443e",
   "metadata": {},
   "outputs": [
    {
     "data": {
      "text/plain": [
       "inches    0.002\n",
       "dtype: float64"
      ]
     },
     "execution_count": 20,
     "metadata": {},
     "output_type": "execute_result"
    }
   ],
   "source": [
    "count/5000"
   ]
  },
  {
   "cell_type": "code",
   "execution_count": 8,
   "id": "20e1f7b8",
   "metadata": {},
   "outputs": [],
   "source": [
    "from scipy.stats import skewtest\n",
    "\n",
    "# Assuming your DataFra\n",
    "skewness_test = skewtest(df)"
   ]
  },
  {
   "cell_type": "code",
   "execution_count": 119,
   "id": "7222583c",
   "metadata": {},
   "outputs": [
    {
     "data": {
      "text/plain": [
       "SkewtestResult(statistic=array([-0.0393515]), pvalue=array([0.96861015]))"
      ]
     },
     "execution_count": 119,
     "metadata": {},
     "output_type": "execute_result"
    }
   ],
   "source": [
    "skewness_test"
   ]
  },
  {
   "cell_type": "code",
   "execution_count": 9,
   "id": "b929271d",
   "metadata": {},
   "outputs": [],
   "source": [
    "p_value = skewness_test.pvalue"
   ]
  },
  {
   "cell_type": "code",
   "execution_count": 11,
   "id": "04743dfa",
   "metadata": {},
   "outputs": [
    {
     "data": {
      "text/plain": [
       "array([0.96861015])"
      ]
     },
     "execution_count": 11,
     "metadata": {},
     "output_type": "execute_result"
    }
   ],
   "source": [
    "p_value"
   ]
  },
  {
   "cell_type": "code",
   "execution_count": null,
   "id": "218ddd62",
   "metadata": {},
   "outputs": [],
   "source": []
  },
  {
   "cell_type": "code",
   "execution_count": 74,
   "id": "8068e6ee",
   "metadata": {},
   "outputs": [],
   "source": [
    "from scipy import stats\n",
    "\n",
    "# Assuming your DataFrame is named df and the column for height is named 'height'\n",
    "mean_height = df.mean()\n",
    "std_dev_height = df.std()\n",
    "n = len(df)\n",
    "\n",
    "# Calculate the standard error\n",
    "se = std_dev_height / (n ** 0.5)\n",
    "\n",
    "# 95% confidence level\n",
    "confidence = 0.95\n",
    "alpha = 1 - confidence\n",
    "\n",
    "# Degrees of freedom\n",
    "dfree = n - 1\n",
    "\n",
    "# t-critical value for 95% confidence\n",
    "t_critical = stats.t.ppf(1 - alpha / 2, dfree)\n",
    "\n",
    "# Lower confidence limit of the mean\n",
    "lower_limit = mean_height - t_critical * se"
   ]
  },
  {
   "cell_type": "code",
   "execution_count": 77,
   "id": "e05b7185",
   "metadata": {},
   "outputs": [
    {
     "data": {
      "text/plain": [
       "inches    4.812047\n",
       "dtype: float64"
      ]
     },
     "execution_count": 77,
     "metadata": {},
     "output_type": "execute_result"
    }
   ],
   "source": [
    "mean_height"
   ]
  },
  {
   "cell_type": "code",
   "execution_count": 76,
   "id": "dc9d0a58",
   "metadata": {},
   "outputs": [
    {
     "data": {
      "text/plain": [
       "inches    4.81195\n",
       "dtype: float64"
      ]
     },
     "execution_count": 76,
     "metadata": {},
     "output_type": "execute_result"
    }
   ],
   "source": [
    "lower_limit"
   ]
  },
  {
   "cell_type": "code",
   "execution_count": 73,
   "id": "497a9855",
   "metadata": {},
   "outputs": [
    {
     "data": {
      "text/plain": [
       "inches    4.812143\n",
       "dtype: float64"
      ]
     },
     "execution_count": 73,
     "metadata": {},
     "output_type": "execute_result"
    }
   ],
   "source": [
    "mean_height + t_critical * se"
   ]
  },
  {
   "cell_type": "code",
   "execution_count": 79,
   "id": "297aee77",
   "metadata": {},
   "outputs": [],
   "source": [
    "# Sample mean and standard deviation\n",
    "mean_height = df.mean()\n",
    "std_dev_height = df.std()\n",
    "\n",
    "# Sample size\n",
    "n = len(df)\n",
    "\n",
    "# Z-score for a 95% confidence interval\n",
    "z_score = norm.ppf(0.975)  # two-tailed test\n",
    "\n",
    "# Lower confidence limit\n",
    "lower_limit = mean_height - z_score * (std_dev_height / (n ** 0.5))\n"
   ]
  },
  {
   "cell_type": "code",
   "execution_count": 81,
   "id": "73057222",
   "metadata": {},
   "outputs": [
    {
     "data": {
      "text/plain": [
       "inches    4.812143\n",
       "dtype: float64"
      ]
     },
     "execution_count": 81,
     "metadata": {},
     "output_type": "execute_result"
    }
   ],
   "source": [
    " mean_height + z_score * (std_dev_height / (n ** 0.5))\n"
   ]
  },
  {
   "cell_type": "code",
   "execution_count": 15,
   "id": "7624e8a4",
   "metadata": {},
   "outputs": [],
   "source": [
    "mean_height = df.mean()\n",
    "std_dev_height = df.std()\n",
    "\n",
    "# Calculate the percentage of cans less than 4.802 inches\n",
    "percentage = norm.cdf(4.802, mean_height, std_dev_height)"
   ]
  },
  {
   "cell_type": "code",
   "execution_count": 16,
   "id": "13299695",
   "metadata": {},
   "outputs": [
    {
     "data": {
      "text/plain": [
       "array([0.00197083])"
      ]
     },
     "execution_count": 16,
     "metadata": {},
     "output_type": "execute_result"
    }
   ],
   "source": [
    "percentage"
   ]
  },
  {
   "cell_type": "code",
   "execution_count": 4,
   "id": "92df1bf0",
   "metadata": {},
   "outputs": [],
   "source": [
    "df_defectives = pd.read_csv(\"defectives.dat\",delimiter=' ')"
   ]
  },
  {
   "cell_type": "code",
   "execution_count": 5,
   "id": "f06712a4",
   "metadata": {},
   "outputs": [
    {
     "data": {
      "text/html": [
       "<div>\n",
       "<style scoped>\n",
       "    .dataframe tbody tr th:only-of-type {\n",
       "        vertical-align: middle;\n",
       "    }\n",
       "\n",
       "    .dataframe tbody tr th {\n",
       "        vertical-align: top;\n",
       "    }\n",
       "\n",
       "    .dataframe thead th {\n",
       "        text-align: right;\n",
       "    }\n",
       "</style>\n",
       "<table border=\"1\" class=\"dataframe\">\n",
       "  <thead>\n",
       "    <tr style=\"text-align: right;\">\n",
       "      <th></th>\n",
       "      <th>cans</th>\n",
       "    </tr>\n",
       "  </thead>\n",
       "  <tbody>\n",
       "    <tr>\n",
       "      <th>0</th>\n",
       "      <td>1</td>\n",
       "    </tr>\n",
       "    <tr>\n",
       "      <th>1</th>\n",
       "      <td>0</td>\n",
       "    </tr>\n",
       "    <tr>\n",
       "      <th>2</th>\n",
       "      <td>2</td>\n",
       "    </tr>\n",
       "    <tr>\n",
       "      <th>3</th>\n",
       "      <td>2</td>\n",
       "    </tr>\n",
       "    <tr>\n",
       "      <th>4</th>\n",
       "      <td>1</td>\n",
       "    </tr>\n",
       "    <tr>\n",
       "      <th>...</th>\n",
       "      <td>...</td>\n",
       "    </tr>\n",
       "    <tr>\n",
       "      <th>70</th>\n",
       "      <td>1</td>\n",
       "    </tr>\n",
       "    <tr>\n",
       "      <th>71</th>\n",
       "      <td>4</td>\n",
       "    </tr>\n",
       "    <tr>\n",
       "      <th>72</th>\n",
       "      <td>2</td>\n",
       "    </tr>\n",
       "    <tr>\n",
       "      <th>73</th>\n",
       "      <td>3</td>\n",
       "    </tr>\n",
       "    <tr>\n",
       "      <th>74</th>\n",
       "      <td>3</td>\n",
       "    </tr>\n",
       "  </tbody>\n",
       "</table>\n",
       "<p>75 rows × 1 columns</p>\n",
       "</div>"
      ],
      "text/plain": [
       "    cans\n",
       "0      1\n",
       "1      0\n",
       "2      2\n",
       "3      2\n",
       "4      1\n",
       "..   ...\n",
       "70     1\n",
       "71     4\n",
       "72     2\n",
       "73     3\n",
       "74     3\n",
       "\n",
       "[75 rows x 1 columns]"
      ]
     },
     "execution_count": 5,
     "metadata": {},
     "output_type": "execute_result"
    }
   ],
   "source": [
    "df_defectives"
   ]
  },
  {
   "cell_type": "code",
   "execution_count": 21,
   "id": "2d72b740",
   "metadata": {},
   "outputs": [],
   "source": [
    "rate=df_defectives.mean()"
   ]
  },
  {
   "cell_type": "code",
   "execution_count": 22,
   "id": "30823c6d",
   "metadata": {},
   "outputs": [
    {
     "data": {
      "text/plain": [
       "cans    1.773333\n",
       "dtype: float64"
      ]
     },
     "execution_count": 22,
     "metadata": {},
     "output_type": "execute_result"
    }
   ],
   "source": [
    "rate"
   ]
  },
  {
   "cell_type": "code",
   "execution_count": 25,
   "id": "b4da183f",
   "metadata": {},
   "outputs": [],
   "source": [
    "from scipy.stats import poisson"
   ]
  },
  {
   "cell_type": "code",
   "execution_count": 26,
   "id": "28033d47",
   "metadata": {},
   "outputs": [],
   "source": [
    "prob_more_than_3 = 1 - sum(poisson.pmf(k, rate) for k in range(4))"
   ]
  },
  {
   "cell_type": "code",
   "execution_count": 27,
   "id": "4846aafd",
   "metadata": {},
   "outputs": [
    {
     "data": {
      "text/plain": [
       "array([0.10446218])"
      ]
     },
     "execution_count": 27,
     "metadata": {},
     "output_type": "execute_result"
    }
   ],
   "source": [
    "prob_more_than_3 "
   ]
  },
  {
   "cell_type": "code",
   "execution_count": 87,
   "id": "90206d96",
   "metadata": {},
   "outputs": [
    {
     "data": {
      "text/html": [
       "<div>\n",
       "<style scoped>\n",
       "    .dataframe tbody tr th:only-of-type {\n",
       "        vertical-align: middle;\n",
       "    }\n",
       "\n",
       "    .dataframe tbody tr th {\n",
       "        vertical-align: top;\n",
       "    }\n",
       "\n",
       "    .dataframe thead th {\n",
       "        text-align: right;\n",
       "    }\n",
       "</style>\n",
       "<table border=\"1\" class=\"dataframe\">\n",
       "  <thead>\n",
       "    <tr style=\"text-align: right;\">\n",
       "      <th></th>\n",
       "      <th>cans</th>\n",
       "    </tr>\n",
       "  </thead>\n",
       "  <tbody>\n",
       "    <tr>\n",
       "      <th>0</th>\n",
       "      <td>1</td>\n",
       "    </tr>\n",
       "    <tr>\n",
       "      <th>1</th>\n",
       "      <td>0</td>\n",
       "    </tr>\n",
       "    <tr>\n",
       "      <th>2</th>\n",
       "      <td>2</td>\n",
       "    </tr>\n",
       "    <tr>\n",
       "      <th>3</th>\n",
       "      <td>2</td>\n",
       "    </tr>\n",
       "    <tr>\n",
       "      <th>4</th>\n",
       "      <td>1</td>\n",
       "    </tr>\n",
       "    <tr>\n",
       "      <th>...</th>\n",
       "      <td>...</td>\n",
       "    </tr>\n",
       "    <tr>\n",
       "      <th>70</th>\n",
       "      <td>1</td>\n",
       "    </tr>\n",
       "    <tr>\n",
       "      <th>71</th>\n",
       "      <td>4</td>\n",
       "    </tr>\n",
       "    <tr>\n",
       "      <th>72</th>\n",
       "      <td>2</td>\n",
       "    </tr>\n",
       "    <tr>\n",
       "      <th>73</th>\n",
       "      <td>3</td>\n",
       "    </tr>\n",
       "    <tr>\n",
       "      <th>74</th>\n",
       "      <td>3</td>\n",
       "    </tr>\n",
       "  </tbody>\n",
       "</table>\n",
       "<p>75 rows × 1 columns</p>\n",
       "</div>"
      ],
      "text/plain": [
       "    cans\n",
       "0      1\n",
       "1      0\n",
       "2      2\n",
       "3      2\n",
       "4      1\n",
       "..   ...\n",
       "70     1\n",
       "71     4\n",
       "72     2\n",
       "73     3\n",
       "74     3\n",
       "\n",
       "[75 rows x 1 columns]"
      ]
     },
     "execution_count": 87,
     "metadata": {},
     "output_type": "execute_result"
    }
   ],
   "source": [
    "df_defectives"
   ]
  },
  {
   "cell_type": "code",
   "execution_count": 107,
   "id": "d0ac88ac",
   "metadata": {},
   "outputs": [],
   "source": [
    "mean_defectives = df_defectives.iloc[:, 0].mean() "
   ]
  },
  {
   "cell_type": "code",
   "execution_count": 108,
   "id": "2fb85b97",
   "metadata": {},
   "outputs": [
    {
     "data": {
      "text/plain": [
       "1.7733333333333334"
      ]
     },
     "execution_count": 108,
     "metadata": {},
     "output_type": "execute_result"
    }
   ],
   "source": [
    "mean_defectives"
   ]
  },
  {
   "cell_type": "code",
   "execution_count": 94,
   "id": "040d615c",
   "metadata": {},
   "outputs": [],
   "source": [
    "# Calculate the number of defectives in the dataset\n",
    "defectives = df_defectives.sum()\n",
    "\n",
    "# Calculate the sample proportion 𝛑\n",
    "p_hat = defectives / n\n",
    "\n",
    "# Calculate the critical value for a 90% confidence level\n",
    "alpha = 0.10  # 1 - Confidence level\n",
    "z_critical = stats.norm.ppf(1 - alpha / 2)\n",
    "\n",
    "# Calculate the lower confidence limit (LCL)\n",
    "lower_confidence_limit = p_hat - z_critical * ((p_hat * (1 - p_hat)) / n)**0.5\n",
    "upper_confidence_limit = p_hat + z_critical * ((p_hat * (1 - p_hat)) / n)**0.5"
   ]
  },
  {
   "cell_type": "code",
   "execution_count": 95,
   "id": "567dafb0",
   "metadata": {},
   "outputs": [
    {
     "data": {
      "text/plain": [
       "cans    0.022857\n",
       "dtype: float64"
      ]
     },
     "execution_count": 95,
     "metadata": {},
     "output_type": "execute_result"
    }
   ],
   "source": [
    "lower_confidence_limit "
   ]
  },
  {
   "cell_type": "code",
   "execution_count": 96,
   "id": "fa5cf089",
   "metadata": {},
   "outputs": [
    {
     "data": {
      "text/plain": [
       "cans    0.030343\n",
       "dtype: float64"
      ]
     },
     "execution_count": 96,
     "metadata": {},
     "output_type": "execute_result"
    }
   ],
   "source": [
    "upper_confidence_limit"
   ]
  },
  {
   "cell_type": "code",
   "execution_count": 106,
   "id": "c045d1ff",
   "metadata": {},
   "outputs": [],
   "source": [
    "# Set the confidence level\n",
    "confidence_level = 0.90\n",
    "\n",
    "# Calculate the critical value (Z)\n",
    "alpha = 1 - confidence_level\n",
    "Z = stats.norm.ppf(1 - alpha / 2)"
   ]
  },
  {
   "cell_type": "code",
   "execution_count": 105,
   "id": "c4eb1e65",
   "metadata": {},
   "outputs": [
    {
     "data": {
      "text/plain": [
       "cans   NaN\n",
       "dtype: float64"
      ]
     },
     "execution_count": 105,
     "metadata": {},
     "output_type": "execute_result"
    }
   ],
   "source": [
    "lower="
   ]
  },
  {
   "cell_type": "code",
   "execution_count": 31,
   "id": "3e430b16",
   "metadata": {},
   "outputs": [],
   "source": [
    "alpha = 1 - confidence_level\n",
    "Z = stats.norm.ppf(1 - alpha / 2)\n"
   ]
  },
  {
   "cell_type": "code",
   "execution_count": 43,
   "id": "fa4184ec",
   "metadata": {},
   "outputs": [
    {
     "data": {
      "text/plain": [
       "0.2"
      ]
     },
     "execution_count": 43,
     "metadata": {},
     "output_type": "execute_result"
    }
   ],
   "source": [
    "mean_defectives-"
   ]
  },
  {
   "cell_type": "code",
   "execution_count": 88,
   "id": "5dd3cf03",
   "metadata": {},
   "outputs": [
    {
     "data": {
      "text/html": [
       "<div>\n",
       "<style scoped>\n",
       "    .dataframe tbody tr th:only-of-type {\n",
       "        vertical-align: middle;\n",
       "    }\n",
       "\n",
       "    .dataframe tbody tr th {\n",
       "        vertical-align: top;\n",
       "    }\n",
       "\n",
       "    .dataframe thead th {\n",
       "        text-align: right;\n",
       "    }\n",
       "</style>\n",
       "<table border=\"1\" class=\"dataframe\">\n",
       "  <thead>\n",
       "    <tr style=\"text-align: right;\">\n",
       "      <th></th>\n",
       "      <th>defects</th>\n",
       "    </tr>\n",
       "  </thead>\n",
       "  <tbody>\n",
       "    <tr>\n",
       "      <th>0</th>\n",
       "      <td>1</td>\n",
       "    </tr>\n",
       "    <tr>\n",
       "      <th>1</th>\n",
       "      <td>0</td>\n",
       "    </tr>\n",
       "    <tr>\n",
       "      <th>2</th>\n",
       "      <td>1</td>\n",
       "    </tr>\n",
       "    <tr>\n",
       "      <th>3</th>\n",
       "      <td>3</td>\n",
       "    </tr>\n",
       "    <tr>\n",
       "      <th>4</th>\n",
       "      <td>5</td>\n",
       "    </tr>\n",
       "    <tr>\n",
       "      <th>5</th>\n",
       "      <td>3</td>\n",
       "    </tr>\n",
       "    <tr>\n",
       "      <th>6</th>\n",
       "      <td>3</td>\n",
       "    </tr>\n",
       "    <tr>\n",
       "      <th>7</th>\n",
       "      <td>3</td>\n",
       "    </tr>\n",
       "    <tr>\n",
       "      <th>8</th>\n",
       "      <td>6</td>\n",
       "    </tr>\n",
       "    <tr>\n",
       "      <th>9</th>\n",
       "      <td>0</td>\n",
       "    </tr>\n",
       "    <tr>\n",
       "      <th>10</th>\n",
       "      <td>5</td>\n",
       "    </tr>\n",
       "    <tr>\n",
       "      <th>11</th>\n",
       "      <td>1</td>\n",
       "    </tr>\n",
       "    <tr>\n",
       "      <th>12</th>\n",
       "      <td>2</td>\n",
       "    </tr>\n",
       "    <tr>\n",
       "      <th>13</th>\n",
       "      <td>1</td>\n",
       "    </tr>\n",
       "    <tr>\n",
       "      <th>14</th>\n",
       "      <td>0</td>\n",
       "    </tr>\n",
       "    <tr>\n",
       "      <th>15</th>\n",
       "      <td>3</td>\n",
       "    </tr>\n",
       "    <tr>\n",
       "      <th>16</th>\n",
       "      <td>4</td>\n",
       "    </tr>\n",
       "    <tr>\n",
       "      <th>17</th>\n",
       "      <td>3</td>\n",
       "    </tr>\n",
       "    <tr>\n",
       "      <th>18</th>\n",
       "      <td>1</td>\n",
       "    </tr>\n",
       "    <tr>\n",
       "      <th>19</th>\n",
       "      <td>1</td>\n",
       "    </tr>\n",
       "    <tr>\n",
       "      <th>20</th>\n",
       "      <td>4</td>\n",
       "    </tr>\n",
       "    <tr>\n",
       "      <th>21</th>\n",
       "      <td>2</td>\n",
       "    </tr>\n",
       "    <tr>\n",
       "      <th>22</th>\n",
       "      <td>1</td>\n",
       "    </tr>\n",
       "    <tr>\n",
       "      <th>23</th>\n",
       "      <td>0</td>\n",
       "    </tr>\n",
       "    <tr>\n",
       "      <th>24</th>\n",
       "      <td>0</td>\n",
       "    </tr>\n",
       "    <tr>\n",
       "      <th>25</th>\n",
       "      <td>1</td>\n",
       "    </tr>\n",
       "    <tr>\n",
       "      <th>26</th>\n",
       "      <td>0</td>\n",
       "    </tr>\n",
       "    <tr>\n",
       "      <th>27</th>\n",
       "      <td>2</td>\n",
       "    </tr>\n",
       "    <tr>\n",
       "      <th>28</th>\n",
       "      <td>4</td>\n",
       "    </tr>\n",
       "    <tr>\n",
       "      <th>29</th>\n",
       "      <td>3</td>\n",
       "    </tr>\n",
       "    <tr>\n",
       "      <th>30</th>\n",
       "      <td>1</td>\n",
       "    </tr>\n",
       "    <tr>\n",
       "      <th>31</th>\n",
       "      <td>0</td>\n",
       "    </tr>\n",
       "    <tr>\n",
       "      <th>32</th>\n",
       "      <td>0</td>\n",
       "    </tr>\n",
       "    <tr>\n",
       "      <th>33</th>\n",
       "      <td>3</td>\n",
       "    </tr>\n",
       "    <tr>\n",
       "      <th>34</th>\n",
       "      <td>7</td>\n",
       "    </tr>\n",
       "    <tr>\n",
       "      <th>35</th>\n",
       "      <td>1</td>\n",
       "    </tr>\n",
       "    <tr>\n",
       "      <th>36</th>\n",
       "      <td>0</td>\n",
       "    </tr>\n",
       "    <tr>\n",
       "      <th>37</th>\n",
       "      <td>2</td>\n",
       "    </tr>\n",
       "    <tr>\n",
       "      <th>38</th>\n",
       "      <td>4</td>\n",
       "    </tr>\n",
       "    <tr>\n",
       "      <th>39</th>\n",
       "      <td>4</td>\n",
       "    </tr>\n",
       "    <tr>\n",
       "      <th>40</th>\n",
       "      <td>6</td>\n",
       "    </tr>\n",
       "    <tr>\n",
       "      <th>41</th>\n",
       "      <td>4</td>\n",
       "    </tr>\n",
       "    <tr>\n",
       "      <th>42</th>\n",
       "      <td>2</td>\n",
       "    </tr>\n",
       "    <tr>\n",
       "      <th>43</th>\n",
       "      <td>1</td>\n",
       "    </tr>\n",
       "    <tr>\n",
       "      <th>44</th>\n",
       "      <td>3</td>\n",
       "    </tr>\n",
       "    <tr>\n",
       "      <th>45</th>\n",
       "      <td>2</td>\n",
       "    </tr>\n",
       "    <tr>\n",
       "      <th>46</th>\n",
       "      <td>1</td>\n",
       "    </tr>\n",
       "    <tr>\n",
       "      <th>47</th>\n",
       "      <td>0</td>\n",
       "    </tr>\n",
       "    <tr>\n",
       "      <th>48</th>\n",
       "      <td>2</td>\n",
       "    </tr>\n",
       "    <tr>\n",
       "      <th>49</th>\n",
       "      <td>1</td>\n",
       "    </tr>\n",
       "  </tbody>\n",
       "</table>\n",
       "</div>"
      ],
      "text/plain": [
       "    defects\n",
       "0         1\n",
       "1         0\n",
       "2         1\n",
       "3         3\n",
       "4         5\n",
       "5         3\n",
       "6         3\n",
       "7         3\n",
       "8         6\n",
       "9         0\n",
       "10        5\n",
       "11        1\n",
       "12        2\n",
       "13        1\n",
       "14        0\n",
       "15        3\n",
       "16        4\n",
       "17        3\n",
       "18        1\n",
       "19        1\n",
       "20        4\n",
       "21        2\n",
       "22        1\n",
       "23        0\n",
       "24        0\n",
       "25        1\n",
       "26        0\n",
       "27        2\n",
       "28        4\n",
       "29        3\n",
       "30        1\n",
       "31        0\n",
       "32        0\n",
       "33        3\n",
       "34        7\n",
       "35        1\n",
       "36        0\n",
       "37        2\n",
       "38        4\n",
       "39        4\n",
       "40        6\n",
       "41        4\n",
       "42        2\n",
       "43        1\n",
       "44        3\n",
       "45        2\n",
       "46        1\n",
       "47        0\n",
       "48        2\n",
       "49        1"
      ]
     },
     "execution_count": 88,
     "metadata": {},
     "output_type": "execute_result"
    }
   ],
   "source": [
    "df_defects"
   ]
  },
  {
   "cell_type": "code",
   "execution_count": null,
   "id": "970bb405",
   "metadata": {},
   "outputs": [],
   "source": []
  },
  {
   "cell_type": "code",
   "execution_count": 44,
   "id": "a4a293c2",
   "metadata": {},
   "outputs": [],
   "source": [
    "zero_defects_count = (df_defects == 0).sum().sum()\n",
    "total_cans = df_defects.shape[0]\n",
    "probability_zero_defects_one_can = zero_defects_count / total_cans\n",
    "\n",
    "# Calculate the probability for 50 cans\n",
    "probability_zero_defects_50_cans = probability_zero_defects_one_can ** 50\n",
    "\n",
    "# Round the result to four decimal places\n",
    "probability_rounded = round(probability_zero_defects_50_cans, 4)"
   ]
  },
  {
   "cell_type": "code",
   "execution_count": 50,
   "id": "b4e30c37",
   "metadata": {},
   "outputs": [
    {
     "data": {
      "text/plain": [
       "1.1258999068426271e-35"
      ]
     },
     "execution_count": 50,
     "metadata": {},
     "output_type": "execute_result"
    }
   ],
   "source": [
    "probability_zero_defects_50_cans"
   ]
  },
  {
   "cell_type": "code",
   "execution_count": 114,
   "id": "47e44103",
   "metadata": {},
   "outputs": [
    {
     "name": "stderr",
     "output_type": "stream",
     "text": [
      "/home/jeffwa/anaconda3/envs/DL_new/lib/python3.10/site-packages/numpy/core/fromnumeric.py:3430: FutureWarning: In a future version, DataFrame.mean(axis=None) will return a scalar mean over the entire DataFrame. To retain the old behavior, use 'frame.mean(axis=0)' or just 'frame.mean()'\n",
      "  return mean(axis=axis, dtype=dtype, out=out, **kwargs)\n",
      "/tmp/ipykernel_13312/1856651442.py:7: DeprecationWarning: Use of keyword argument `alpha` for method `interval` is deprecated. Use first positional argument or keyword argument `confidence` instead.\n",
      "  st.t.interval(alpha=0.90, df=len(gfg_data),\n"
     ]
    },
    {
     "data": {
      "text/plain": [
       "(array([1.5441007]), array([2.00256596]))"
      ]
     },
     "execution_count": 114,
     "metadata": {},
     "output_type": "execute_result"
    }
   ],
   "source": [
    "import scipy.stats as st \n",
    "import numpy as np\n",
    "# define sample data \n",
    "gfg_data = df_defectives\n",
    "  \n",
    "# create 90% confidence interval \n",
    "st.t.interval(alpha=0.90, df=len(gfg_data), \n",
    "              loc=np.mean(gfg_data), \n",
    "              scale=st.sem(gfg_data)) "
   ]
  },
  {
   "cell_type": "code",
   "execution_count": 113,
   "id": "1e743724",
   "metadata": {},
   "outputs": [
    {
     "data": {
      "text/plain": [
       "75"
      ]
     },
     "execution_count": 113,
     "metadata": {},
     "output_type": "execute_result"
    }
   ],
   "source": [
    "len(gfg_data)"
   ]
  },
  {
   "cell_type": "code",
   "execution_count": 115,
   "id": "e483f97e",
   "metadata": {},
   "outputs": [
    {
     "data": {
      "text/plain": [
       "cans    1.773333\n",
       "dtype: float64"
      ]
     },
     "execution_count": 115,
     "metadata": {},
     "output_type": "execute_result"
    }
   ],
   "source": [
    "df_defectives.mean()"
   ]
  },
  {
   "cell_type": "code",
   "execution_count": 117,
   "id": "8f2ae8e3",
   "metadata": {},
   "outputs": [
    {
     "name": "stderr",
     "output_type": "stream",
     "text": [
      "/home/jeffwa/anaconda3/envs/DL_new/lib/python3.10/site-packages/numpy/core/fromnumeric.py:3430: FutureWarning: In a future version, DataFrame.mean(axis=None) will return a scalar mean over the entire DataFrame. To retain the old behavior, use 'frame.mean(axis=0)' or just 'frame.mean()'\n",
      "  return mean(axis=axis, dtype=dtype, out=out, **kwargs)\n",
      "/tmp/ipykernel_13312/962407660.py:7: DeprecationWarning: Use of keyword argument `alpha` for method `interval` is deprecated. Use first positional argument or keyword argument `confidence` instead.\n",
      "  st.t.interval(alpha=0.95, df=len(gfg_data)-1,\n"
     ]
    },
    {
     "data": {
      "text/plain": [
       "(array([4.81194998]), array([4.81214322]))"
      ]
     },
     "execution_count": 117,
     "metadata": {},
     "output_type": "execute_result"
    }
   ],
   "source": [
    "import scipy.stats as st \n",
    "import numpy as np\n",
    "# define sample data \n",
    "gfg_data = df\n",
    "  \n",
    "# create 90% confidence interval \n",
    "st.t.interval(alpha=0.95, df=len(gfg_data)-1, \n",
    "              loc=np.mean(gfg_data), \n",
    "              scale=st.sem(gfg_data)) "
   ]
  },
  {
   "cell_type": "code",
   "execution_count": 118,
   "id": "ef33c939",
   "metadata": {},
   "outputs": [
    {
     "data": {
      "text/plain": [
       "array([4.92856683e-05])"
      ]
     },
     "execution_count": 118,
     "metadata": {},
     "output_type": "execute_result"
    }
   ],
   "source": [
    "st.sem(gfg_data)"
   ]
  },
  {
   "cell_type": "code",
   "execution_count": null,
   "id": "6b9785f8",
   "metadata": {},
   "outputs": [],
   "source": []
  }
 ],
 "metadata": {
  "kernelspec": {
   "display_name": "Python 3 (ipykernel)",
   "language": "python",
   "name": "python3"
  },
  "language_info": {
   "codemirror_mode": {
    "name": "ipython",
    "version": 3
   },
   "file_extension": ".py",
   "mimetype": "text/x-python",
   "name": "python",
   "nbconvert_exporter": "python",
   "pygments_lexer": "ipython3",
   "version": "3.10.4"
  }
 },
 "nbformat": 4,
 "nbformat_minor": 5
}

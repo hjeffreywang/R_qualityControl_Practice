{
 "cells": [
  {
   "cell_type": "code",
   "execution_count": 1,
   "id": "270d8de9-bbb9-4bff-b86a-7d96801c264f",
   "metadata": {},
   "outputs": [],
   "source": [
    "df=read.csv(\"viscosity.txt\")"
   ]
  },
  {
   "cell_type": "code",
   "execution_count": 3,
   "id": "dbac3201-c85d-4e16-ae44-833e46578d83",
   "metadata": {},
   "outputs": [
    {
     "name": "stderr",
     "output_type": "stream",
     "text": [
      "also installing the dependencies ‘credentials’, ‘zip’, ‘gitcreds’, ‘httr2’, ‘ini’, ‘htmltools’, ‘diffobj’, ‘gert’, ‘gh’, ‘rprojroot’, ‘whisker’, ‘downlit’, ‘htmlwidgets’, ‘xopen’, ‘brew’, ‘brio’, ‘praise’, ‘waldo’, ‘usethis’, ‘desc’, ‘miniUI’, ‘pkgbuild’, ‘pkgdown’, ‘pkgload’, ‘profvis’, ‘rcmdcheck’, ‘remotes’, ‘roxygen2’, ‘rversions’, ‘sessioninfo’, ‘testthat’, ‘urlchecker’\n",
      "\n",
      "\n",
      "Updating HTML index of packages in '.Library'\n",
      "\n",
      "Making 'packages.html' ...\n",
      " done\n",
      "\n"
     ]
    }
   ],
   "source": [
    "install.packages(\"devtools\")"
   ]
  },
  {
   "cell_type": "code",
   "execution_count": 10,
   "id": "7df39e20-388c-4c59-a9bc-92fb7d29dddc",
   "metadata": {},
   "outputs": [
    {
     "name": "stderr",
     "output_type": "stream",
     "text": [
      "Loading required package: devtools\n",
      "\n",
      "Error: package or namespace load failed for ‘devtools’ in loadNamespace(i, c(lib.loc, .libPaths()), versionCheck = vI[[i]]):\n",
      " namespace ‘htmltools’ 0.5.6.1 is already loaded, but >= 0.5.7 is required\n",
      "\n"
     ]
    },
    {
     "ename": "ERROR",
     "evalue": "Error in install_github(\"burrm/lolcat\"): could not find function \"install_github\"\n",
     "output_type": "error",
     "traceback": [
      "Error in install_github(\"burrm/lolcat\"): could not find function \"install_github\"\nTraceback:\n"
     ]
    }
   ],
   "source": [
    "require(devtools)\n",
    "install_github(\"burrm/lolcat\")"
   ]
  },
  {
   "cell_type": "code",
   "execution_count": 1,
   "id": "e5036a1e-de86-4c3c-acb9-e38631bf14ee",
   "metadata": {
    "scrolled": true
   },
   "outputs": [
    {
     "name": "stderr",
     "output_type": "stream",
     "text": [
      "\n",
      "Attaching package: ‘actuar’\n",
      "\n",
      "\n",
      "The following objects are masked from ‘package:stats’:\n",
      "\n",
      "    sd, var\n",
      "\n",
      "\n",
      "The following object is masked from ‘package:grDevices’:\n",
      "\n",
      "    cm\n",
      "\n",
      "\n"
     ]
    }
   ],
   "source": [
    "library(actuar)"
   ]
  },
  {
   "cell_type": "code",
   "execution_count": 2,
   "id": "77482d82-5e44-4a9f-ac0b-c0088eaa5721",
   "metadata": {},
   "outputs": [
    {
     "data": {
      "text/html": [
       "<table class=\"dataframe\">\n",
       "<caption>A data.frame: 50 × 1</caption>\n",
       "<thead>\n",
       "\t<tr><th scope=col>centistokes</th></tr>\n",
       "\t<tr><th scope=col>&lt;dbl&gt;</th></tr>\n",
       "</thead>\n",
       "<tbody>\n",
       "\t<tr><td> 85</td></tr>\n",
       "\t<tr><td> 84</td></tr>\n",
       "\t<tr><td> 83</td></tr>\n",
       "\t<tr><td> 65</td></tr>\n",
       "\t<tr><td> 96</td></tr>\n",
       "\t<tr><td> 83</td></tr>\n",
       "\t<tr><td> 79</td></tr>\n",
       "\t<tr><td> 92</td></tr>\n",
       "\t<tr><td> 77</td></tr>\n",
       "\t<tr><td> 71</td></tr>\n",
       "\t<tr><td> 85</td></tr>\n",
       "\t<tr><td> 94</td></tr>\n",
       "\t<tr><td> 65</td></tr>\n",
       "\t<tr><td> 77</td></tr>\n",
       "\t<tr><td> 69</td></tr>\n",
       "\t<tr><td> 87</td></tr>\n",
       "\t<tr><td> 86</td></tr>\n",
       "\t<tr><td> 86</td></tr>\n",
       "\t<tr><td> 83</td></tr>\n",
       "\t<tr><td> 76</td></tr>\n",
       "\t<tr><td>105</td></tr>\n",
       "\t<tr><td> 72</td></tr>\n",
       "\t<tr><td> 91</td></tr>\n",
       "\t<tr><td> 96</td></tr>\n",
       "\t<tr><td> 69</td></tr>\n",
       "\t<tr><td> 77</td></tr>\n",
       "\t<tr><td>101</td></tr>\n",
       "\t<tr><td> 70</td></tr>\n",
       "\t<tr><td> 60</td></tr>\n",
       "\t<tr><td> 67</td></tr>\n",
       "\t<tr><td> 90</td></tr>\n",
       "\t<tr><td> 79</td></tr>\n",
       "\t<tr><td> 75</td></tr>\n",
       "\t<tr><td> 66</td></tr>\n",
       "\t<tr><td> 74</td></tr>\n",
       "\t<tr><td> 83</td></tr>\n",
       "\t<tr><td> 71</td></tr>\n",
       "\t<tr><td> 78</td></tr>\n",
       "\t<tr><td> 84</td></tr>\n",
       "\t<tr><td> 71</td></tr>\n",
       "\t<tr><td> 89</td></tr>\n",
       "\t<tr><td> 78</td></tr>\n",
       "\t<tr><td> 97</td></tr>\n",
       "\t<tr><td> 68</td></tr>\n",
       "\t<tr><td> 77</td></tr>\n",
       "\t<tr><td> 78</td></tr>\n",
       "\t<tr><td> 79</td></tr>\n",
       "\t<tr><td> 82</td></tr>\n",
       "\t<tr><td> 64</td></tr>\n",
       "\t<tr><td> 66</td></tr>\n",
       "</tbody>\n",
       "</table>\n"
      ],
      "text/latex": [
       "A data.frame: 50 × 1\n",
       "\\begin{tabular}{l}\n",
       " centistokes\\\\\n",
       " <dbl>\\\\\n",
       "\\hline\n",
       "\t  85\\\\\n",
       "\t  84\\\\\n",
       "\t  83\\\\\n",
       "\t  65\\\\\n",
       "\t  96\\\\\n",
       "\t  83\\\\\n",
       "\t  79\\\\\n",
       "\t  92\\\\\n",
       "\t  77\\\\\n",
       "\t  71\\\\\n",
       "\t  85\\\\\n",
       "\t  94\\\\\n",
       "\t  65\\\\\n",
       "\t  77\\\\\n",
       "\t  69\\\\\n",
       "\t  87\\\\\n",
       "\t  86\\\\\n",
       "\t  86\\\\\n",
       "\t  83\\\\\n",
       "\t  76\\\\\n",
       "\t 105\\\\\n",
       "\t  72\\\\\n",
       "\t  91\\\\\n",
       "\t  96\\\\\n",
       "\t  69\\\\\n",
       "\t  77\\\\\n",
       "\t 101\\\\\n",
       "\t  70\\\\\n",
       "\t  60\\\\\n",
       "\t  67\\\\\n",
       "\t  90\\\\\n",
       "\t  79\\\\\n",
       "\t  75\\\\\n",
       "\t  66\\\\\n",
       "\t  74\\\\\n",
       "\t  83\\\\\n",
       "\t  71\\\\\n",
       "\t  78\\\\\n",
       "\t  84\\\\\n",
       "\t  71\\\\\n",
       "\t  89\\\\\n",
       "\t  78\\\\\n",
       "\t  97\\\\\n",
       "\t  68\\\\\n",
       "\t  77\\\\\n",
       "\t  78\\\\\n",
       "\t  79\\\\\n",
       "\t  82\\\\\n",
       "\t  64\\\\\n",
       "\t  66\\\\\n",
       "\\end{tabular}\n"
      ],
      "text/markdown": [
       "\n",
       "A data.frame: 50 × 1\n",
       "\n",
       "| centistokes &lt;dbl&gt; |\n",
       "|---|\n",
       "|  85 |\n",
       "|  84 |\n",
       "|  83 |\n",
       "|  65 |\n",
       "|  96 |\n",
       "|  83 |\n",
       "|  79 |\n",
       "|  92 |\n",
       "|  77 |\n",
       "|  71 |\n",
       "|  85 |\n",
       "|  94 |\n",
       "|  65 |\n",
       "|  77 |\n",
       "|  69 |\n",
       "|  87 |\n",
       "|  86 |\n",
       "|  86 |\n",
       "|  83 |\n",
       "|  76 |\n",
       "| 105 |\n",
       "|  72 |\n",
       "|  91 |\n",
       "|  96 |\n",
       "|  69 |\n",
       "|  77 |\n",
       "| 101 |\n",
       "|  70 |\n",
       "|  60 |\n",
       "|  67 |\n",
       "|  90 |\n",
       "|  79 |\n",
       "|  75 |\n",
       "|  66 |\n",
       "|  74 |\n",
       "|  83 |\n",
       "|  71 |\n",
       "|  78 |\n",
       "|  84 |\n",
       "|  71 |\n",
       "|  89 |\n",
       "|  78 |\n",
       "|  97 |\n",
       "|  68 |\n",
       "|  77 |\n",
       "|  78 |\n",
       "|  79 |\n",
       "|  82 |\n",
       "|  64 |\n",
       "|  66 |\n",
       "\n"
      ],
      "text/plain": [
       "   centistokes\n",
       "1   85        \n",
       "2   84        \n",
       "3   83        \n",
       "4   65        \n",
       "5   96        \n",
       "6   83        \n",
       "7   79        \n",
       "8   92        \n",
       "9   77        \n",
       "10  71        \n",
       "11  85        \n",
       "12  94        \n",
       "13  65        \n",
       "14  77        \n",
       "15  69        \n",
       "16  87        \n",
       "17  86        \n",
       "18  86        \n",
       "19  83        \n",
       "20  76        \n",
       "21 105        \n",
       "22  72        \n",
       "23  91        \n",
       "24  96        \n",
       "25  69        \n",
       "26  77        \n",
       "27 101        \n",
       "28  70        \n",
       "29  60        \n",
       "30  67        \n",
       "31  90        \n",
       "32  79        \n",
       "33  75        \n",
       "34  66        \n",
       "35  74        \n",
       "36  83        \n",
       "37  71        \n",
       "38  78        \n",
       "39  84        \n",
       "40  71        \n",
       "41  89        \n",
       "42  78        \n",
       "43  97        \n",
       "44  68        \n",
       "45  77        \n",
       "46  78        \n",
       "47  79        \n",
       "48  82        \n",
       "49  64        \n",
       "50  66        "
      ]
     },
     "metadata": {},
     "output_type": "display_data"
    }
   ],
   "source": [
    "df"
   ]
  },
  {
   "cell_type": "code",
   "execution_count": 5,
   "id": "3cba0c9e-4c09-4fed-a944-b5f76af4e95f",
   "metadata": {},
   "outputs": [
    {
     "ename": "ERROR",
     "evalue": "Error in hist.grouped(df$centistokes): could not find function \"hist.grouped\"\n",
     "output_type": "error",
     "traceback": [
      "Error in hist.grouped(df$centistokes): could not find function \"hist.grouped\"\nTraceback:\n"
     ]
    }
   ],
   "source": [
    "hist"
   ]
  },
  {
   "cell_type": "code",
   "execution_count": 6,
   "id": "88ac7b78-53bb-44db-886a-8c387084ad07",
   "metadata": {
    "scrolled": true
   },
   "outputs": [
    {
     "ename": "ERROR",
     "evalue": "Error in hist.grouped(castings$weight, xlab = \"Weight\", freq = F): could not find function \"hist.grouped\"\n",
     "output_type": "error",
     "traceback": [
      "Error in hist.grouped(castings$weight, xlab = \"Weight\", freq = F): could not find function \"hist.grouped\"\nTraceback:\n"
     ]
    }
   ],
   "source": [
    "hist.grouped(castings$weight, xlab=\"Weight\", freq=F)"
   ]
  },
  {
   "cell_type": "code",
   "execution_count": 9,
   "id": "1e0375fe-9dc3-4910-b59c-5d1d72d14ddf",
   "metadata": {},
   "outputs": [
    {
     "ename": "ERROR",
     "evalue": "Error in library(lolcat): there is no package called ‘lolcat’\n",
     "output_type": "error",
     "traceback": [
      "Error in library(lolcat): there is no package called ‘lolcat’\nTraceback:\n",
      "1. library(lolcat)"
     ]
    }
   ],
   "source": [
    "library(lolcat)"
   ]
  },
  {
   "cell_type": "code",
   "execution_count": null,
   "id": "d2a1a816-cfef-4010-85eb-1c54e0e91403",
   "metadata": {},
   "outputs": [],
   "source": []
  }
 ],
 "metadata": {
  "kernelspec": {
   "display_name": "R",
   "language": "R",
   "name": "ir"
  },
  "language_info": {
   "codemirror_mode": "r",
   "file_extension": ".r",
   "mimetype": "text/x-r-source",
   "name": "R",
   "pygments_lexer": "r",
   "version": "4.3.1"
  }
 },
 "nbformat": 4,
 "nbformat_minor": 5
}
